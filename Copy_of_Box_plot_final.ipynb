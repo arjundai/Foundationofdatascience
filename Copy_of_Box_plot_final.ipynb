{
  "cells": [
    {
      "cell_type": "markdown",
      "metadata": {
        "id": "view-in-github",
        "colab_type": "text"
      },
      "source": [
        "<a href=\"https://colab.research.google.com/github/arjundai/Foundationofdatascience/blob/main/Copy_of_Box_plot_final.ipynb\" target=\"_parent\"><img src=\"https://colab.research.google.com/assets/colab-badge.svg\" alt=\"Open In Colab\"/></a>"
      ]
    },
    {
      "cell_type": "code",
      "execution_count": null,
      "id": "68852a7f-ed47-4139-ac46-36b060335cf0",
      "metadata": {
        "id": "68852a7f-ed47-4139-ac46-36b060335cf0"
      },
      "outputs": [],
      "source": [
        "import pandas as pd\n",
        "import matplotlib.pyplot as plt\n",
        "import seaborn as sns"
      ]
    },
    {
      "cell_type": "code",
      "execution_count": null,
      "id": "2c3781a5-6357-436a-a033-2508c2859341",
      "metadata": {
        "colab": {
          "base_uri": "https://localhost:8080/"
        },
        "id": "2c3781a5-6357-436a-a033-2508c2859341",
        "outputId": "8fffdb23-a66f-492e-dd17-b94f6cbbce7b"
      },
      "outputs": [
        {
          "output_type": "stream",
          "name": "stdout",
          "text": [
            "Drive already mounted at /content/drive; to attempt to forcibly remount, call drive.mount(\"/content/drive\", force_remount=True).\n",
            "Mounted at /content/drive\n"
          ]
        }
      ],
      "source": [
        "from google.colab import drive\n",
        "drive.mount('/content/drive')\n",
        "\n",
        "data1 = pd.read_csv(\"/content/drive/My Drive/data1.csv\")\n",
        "\n",
        "data2 = pd.read_csv(\"/content/drive/My Drive/data2.csv\")\n",
        "drive.mount(\"/content/drive\", force_remount=True)"
      ]
    },
    {
      "cell_type": "code",
      "source": [],
      "metadata": {
        "id": "rSwV3uxUSihf"
      },
      "id": "rSwV3uxUSihf",
      "execution_count": null,
      "outputs": []
    },
    {
      "cell_type": "markdown",
      "source": [],
      "metadata": {
        "id": "-gNZHjW_Seig"
      },
      "id": "-gNZHjW_Seig"
    },
    {
      "cell_type": "code",
      "execution_count": null,
      "id": "2c8bf15d-82bc-4f52-889d-970994382182",
      "metadata": {
        "colab": {
          "base_uri": "https://localhost:8080/",
          "height": 206
        },
        "id": "2c8bf15d-82bc-4f52-889d-970994382182",
        "outputId": "a7415d13-2cc3-49f6-b803-524455b2d2e1"
      },
      "outputs": [
        {
          "output_type": "execute_result",
          "data": {
            "text/plain": [
              "         start_time  bat_landing_to_food habit  rat_period_start  \\\n",
              "0  30/12/2017 18:37            16.000000   rat  30/12/2017 18:35   \n",
              "1  30/12/2017 19:51             0.074016  fast  30/12/2017 19:50   \n",
              "2  30/12/2017 19:51             4.000000  fast  30/12/2017 19:50   \n",
              "3  30/12/2017 19:52            10.000000   rat  30/12/2017 19:50   \n",
              "4  30/12/2017 19:54            15.000000   rat  30/12/2017 19:50   \n",
              "\n",
              "     rat_period_end  seconds_after_rat_arrival  risk  reward  month  \\\n",
              "0  30/12/2017 18:38                        108     1       0      0   \n",
              "1  30/12/2017 19:55                         17     0       1      0   \n",
              "2  30/12/2017 19:55                         41     0       1      0   \n",
              "3  30/12/2017 19:55                        111     1       0      0   \n",
              "4  30/12/2017 19:55                        194     1       0      0   \n",
              "\n",
              "        sunset_time  hours_after_sunset  season  \n",
              "0  30/12/2017 16:45            1.870833       0  \n",
              "1  30/12/2017 16:45            3.100833       0  \n",
              "2  30/12/2017 16:45            3.107500       0  \n",
              "3  30/12/2017 16:45            3.126944       0  \n",
              "4  30/12/2017 16:45            3.150000       0  "
            ],
            "text/html": [
              "\n",
              "  <div id=\"df-7629ec06-183d-42ae-bfc9-cc4fc92c04a5\" class=\"colab-df-container\">\n",
              "    <div>\n",
              "<style scoped>\n",
              "    .dataframe tbody tr th:only-of-type {\n",
              "        vertical-align: middle;\n",
              "    }\n",
              "\n",
              "    .dataframe tbody tr th {\n",
              "        vertical-align: top;\n",
              "    }\n",
              "\n",
              "    .dataframe thead th {\n",
              "        text-align: right;\n",
              "    }\n",
              "</style>\n",
              "<table border=\"1\" class=\"dataframe\">\n",
              "  <thead>\n",
              "    <tr style=\"text-align: right;\">\n",
              "      <th></th>\n",
              "      <th>start_time</th>\n",
              "      <th>bat_landing_to_food</th>\n",
              "      <th>habit</th>\n",
              "      <th>rat_period_start</th>\n",
              "      <th>rat_period_end</th>\n",
              "      <th>seconds_after_rat_arrival</th>\n",
              "      <th>risk</th>\n",
              "      <th>reward</th>\n",
              "      <th>month</th>\n",
              "      <th>sunset_time</th>\n",
              "      <th>hours_after_sunset</th>\n",
              "      <th>season</th>\n",
              "    </tr>\n",
              "  </thead>\n",
              "  <tbody>\n",
              "    <tr>\n",
              "      <th>0</th>\n",
              "      <td>30/12/2017 18:37</td>\n",
              "      <td>16.000000</td>\n",
              "      <td>rat</td>\n",
              "      <td>30/12/2017 18:35</td>\n",
              "      <td>30/12/2017 18:38</td>\n",
              "      <td>108</td>\n",
              "      <td>1</td>\n",
              "      <td>0</td>\n",
              "      <td>0</td>\n",
              "      <td>30/12/2017 16:45</td>\n",
              "      <td>1.870833</td>\n",
              "      <td>0</td>\n",
              "    </tr>\n",
              "    <tr>\n",
              "      <th>1</th>\n",
              "      <td>30/12/2017 19:51</td>\n",
              "      <td>0.074016</td>\n",
              "      <td>fast</td>\n",
              "      <td>30/12/2017 19:50</td>\n",
              "      <td>30/12/2017 19:55</td>\n",
              "      <td>17</td>\n",
              "      <td>0</td>\n",
              "      <td>1</td>\n",
              "      <td>0</td>\n",
              "      <td>30/12/2017 16:45</td>\n",
              "      <td>3.100833</td>\n",
              "      <td>0</td>\n",
              "    </tr>\n",
              "    <tr>\n",
              "      <th>2</th>\n",
              "      <td>30/12/2017 19:51</td>\n",
              "      <td>4.000000</td>\n",
              "      <td>fast</td>\n",
              "      <td>30/12/2017 19:50</td>\n",
              "      <td>30/12/2017 19:55</td>\n",
              "      <td>41</td>\n",
              "      <td>0</td>\n",
              "      <td>1</td>\n",
              "      <td>0</td>\n",
              "      <td>30/12/2017 16:45</td>\n",
              "      <td>3.107500</td>\n",
              "      <td>0</td>\n",
              "    </tr>\n",
              "    <tr>\n",
              "      <th>3</th>\n",
              "      <td>30/12/2017 19:52</td>\n",
              "      <td>10.000000</td>\n",
              "      <td>rat</td>\n",
              "      <td>30/12/2017 19:50</td>\n",
              "      <td>30/12/2017 19:55</td>\n",
              "      <td>111</td>\n",
              "      <td>1</td>\n",
              "      <td>0</td>\n",
              "      <td>0</td>\n",
              "      <td>30/12/2017 16:45</td>\n",
              "      <td>3.126944</td>\n",
              "      <td>0</td>\n",
              "    </tr>\n",
              "    <tr>\n",
              "      <th>4</th>\n",
              "      <td>30/12/2017 19:54</td>\n",
              "      <td>15.000000</td>\n",
              "      <td>rat</td>\n",
              "      <td>30/12/2017 19:50</td>\n",
              "      <td>30/12/2017 19:55</td>\n",
              "      <td>194</td>\n",
              "      <td>1</td>\n",
              "      <td>0</td>\n",
              "      <td>0</td>\n",
              "      <td>30/12/2017 16:45</td>\n",
              "      <td>3.150000</td>\n",
              "      <td>0</td>\n",
              "    </tr>\n",
              "  </tbody>\n",
              "</table>\n",
              "</div>\n",
              "    <div class=\"colab-df-buttons\">\n",
              "\n",
              "  <div class=\"colab-df-container\">\n",
              "    <button class=\"colab-df-convert\" onclick=\"convertToInteractive('df-7629ec06-183d-42ae-bfc9-cc4fc92c04a5')\"\n",
              "            title=\"Convert this dataframe to an interactive table.\"\n",
              "            style=\"display:none;\">\n",
              "\n",
              "  <svg xmlns=\"http://www.w3.org/2000/svg\" height=\"24px\" viewBox=\"0 -960 960 960\">\n",
              "    <path d=\"M120-120v-720h720v720H120Zm60-500h600v-160H180v160Zm220 220h160v-160H400v160Zm0 220h160v-160H400v160ZM180-400h160v-160H180v160Zm440 0h160v-160H620v160ZM180-180h160v-160H180v160Zm440 0h160v-160H620v160Z\"/>\n",
              "  </svg>\n",
              "    </button>\n",
              "\n",
              "  <style>\n",
              "    .colab-df-container {\n",
              "      display:flex;\n",
              "      gap: 12px;\n",
              "    }\n",
              "\n",
              "    .colab-df-convert {\n",
              "      background-color: #E8F0FE;\n",
              "      border: none;\n",
              "      border-radius: 50%;\n",
              "      cursor: pointer;\n",
              "      display: none;\n",
              "      fill: #1967D2;\n",
              "      height: 32px;\n",
              "      padding: 0 0 0 0;\n",
              "      width: 32px;\n",
              "    }\n",
              "\n",
              "    .colab-df-convert:hover {\n",
              "      background-color: #E2EBFA;\n",
              "      box-shadow: 0px 1px 2px rgba(60, 64, 67, 0.3), 0px 1px 3px 1px rgba(60, 64, 67, 0.15);\n",
              "      fill: #174EA6;\n",
              "    }\n",
              "\n",
              "    .colab-df-buttons div {\n",
              "      margin-bottom: 4px;\n",
              "    }\n",
              "\n",
              "    [theme=dark] .colab-df-convert {\n",
              "      background-color: #3B4455;\n",
              "      fill: #D2E3FC;\n",
              "    }\n",
              "\n",
              "    [theme=dark] .colab-df-convert:hover {\n",
              "      background-color: #434B5C;\n",
              "      box-shadow: 0px 1px 3px 1px rgba(0, 0, 0, 0.15);\n",
              "      filter: drop-shadow(0px 1px 2px rgba(0, 0, 0, 0.3));\n",
              "      fill: #FFFFFF;\n",
              "    }\n",
              "  </style>\n",
              "\n",
              "    <script>\n",
              "      const buttonEl =\n",
              "        document.querySelector('#df-7629ec06-183d-42ae-bfc9-cc4fc92c04a5 button.colab-df-convert');\n",
              "      buttonEl.style.display =\n",
              "        google.colab.kernel.accessAllowed ? 'block' : 'none';\n",
              "\n",
              "      async function convertToInteractive(key) {\n",
              "        const element = document.querySelector('#df-7629ec06-183d-42ae-bfc9-cc4fc92c04a5');\n",
              "        const dataTable =\n",
              "          await google.colab.kernel.invokeFunction('convertToInteractive',\n",
              "                                                    [key], {});\n",
              "        if (!dataTable) return;\n",
              "\n",
              "        const docLinkHtml = 'Like what you see? Visit the ' +\n",
              "          '<a target=\"_blank\" href=https://colab.research.google.com/notebooks/data_table.ipynb>data table notebook</a>'\n",
              "          + ' to learn more about interactive tables.';\n",
              "        element.innerHTML = '';\n",
              "        dataTable['output_type'] = 'display_data';\n",
              "        await google.colab.output.renderOutput(dataTable, element);\n",
              "        const docLink = document.createElement('div');\n",
              "        docLink.innerHTML = docLinkHtml;\n",
              "        element.appendChild(docLink);\n",
              "      }\n",
              "    </script>\n",
              "  </div>\n",
              "\n",
              "\n",
              "    <div id=\"df-e9eee35f-73ab-409c-aa3e-cdcc718104f5\">\n",
              "      <button class=\"colab-df-quickchart\" onclick=\"quickchart('df-e9eee35f-73ab-409c-aa3e-cdcc718104f5')\"\n",
              "                title=\"Suggest charts\"\n",
              "                style=\"display:none;\">\n",
              "\n",
              "<svg xmlns=\"http://www.w3.org/2000/svg\" height=\"24px\"viewBox=\"0 0 24 24\"\n",
              "     width=\"24px\">\n",
              "    <g>\n",
              "        <path d=\"M19 3H5c-1.1 0-2 .9-2 2v14c0 1.1.9 2 2 2h14c1.1 0 2-.9 2-2V5c0-1.1-.9-2-2-2zM9 17H7v-7h2v7zm4 0h-2V7h2v10zm4 0h-2v-4h2v4z\"/>\n",
              "    </g>\n",
              "</svg>\n",
              "      </button>\n",
              "\n",
              "<style>\n",
              "  .colab-df-quickchart {\n",
              "      --bg-color: #E8F0FE;\n",
              "      --fill-color: #1967D2;\n",
              "      --hover-bg-color: #E2EBFA;\n",
              "      --hover-fill-color: #174EA6;\n",
              "      --disabled-fill-color: #AAA;\n",
              "      --disabled-bg-color: #DDD;\n",
              "  }\n",
              "\n",
              "  [theme=dark] .colab-df-quickchart {\n",
              "      --bg-color: #3B4455;\n",
              "      --fill-color: #D2E3FC;\n",
              "      --hover-bg-color: #434B5C;\n",
              "      --hover-fill-color: #FFFFFF;\n",
              "      --disabled-bg-color: #3B4455;\n",
              "      --disabled-fill-color: #666;\n",
              "  }\n",
              "\n",
              "  .colab-df-quickchart {\n",
              "    background-color: var(--bg-color);\n",
              "    border: none;\n",
              "    border-radius: 50%;\n",
              "    cursor: pointer;\n",
              "    display: none;\n",
              "    fill: var(--fill-color);\n",
              "    height: 32px;\n",
              "    padding: 0;\n",
              "    width: 32px;\n",
              "  }\n",
              "\n",
              "  .colab-df-quickchart:hover {\n",
              "    background-color: var(--hover-bg-color);\n",
              "    box-shadow: 0 1px 2px rgba(60, 64, 67, 0.3), 0 1px 3px 1px rgba(60, 64, 67, 0.15);\n",
              "    fill: var(--button-hover-fill-color);\n",
              "  }\n",
              "\n",
              "  .colab-df-quickchart-complete:disabled,\n",
              "  .colab-df-quickchart-complete:disabled:hover {\n",
              "    background-color: var(--disabled-bg-color);\n",
              "    fill: var(--disabled-fill-color);\n",
              "    box-shadow: none;\n",
              "  }\n",
              "\n",
              "  .colab-df-spinner {\n",
              "    border: 2px solid var(--fill-color);\n",
              "    border-color: transparent;\n",
              "    border-bottom-color: var(--fill-color);\n",
              "    animation:\n",
              "      spin 1s steps(1) infinite;\n",
              "  }\n",
              "\n",
              "  @keyframes spin {\n",
              "    0% {\n",
              "      border-color: transparent;\n",
              "      border-bottom-color: var(--fill-color);\n",
              "      border-left-color: var(--fill-color);\n",
              "    }\n",
              "    20% {\n",
              "      border-color: transparent;\n",
              "      border-left-color: var(--fill-color);\n",
              "      border-top-color: var(--fill-color);\n",
              "    }\n",
              "    30% {\n",
              "      border-color: transparent;\n",
              "      border-left-color: var(--fill-color);\n",
              "      border-top-color: var(--fill-color);\n",
              "      border-right-color: var(--fill-color);\n",
              "    }\n",
              "    40% {\n",
              "      border-color: transparent;\n",
              "      border-right-color: var(--fill-color);\n",
              "      border-top-color: var(--fill-color);\n",
              "    }\n",
              "    60% {\n",
              "      border-color: transparent;\n",
              "      border-right-color: var(--fill-color);\n",
              "    }\n",
              "    80% {\n",
              "      border-color: transparent;\n",
              "      border-right-color: var(--fill-color);\n",
              "      border-bottom-color: var(--fill-color);\n",
              "    }\n",
              "    90% {\n",
              "      border-color: transparent;\n",
              "      border-bottom-color: var(--fill-color);\n",
              "    }\n",
              "  }\n",
              "</style>\n",
              "\n",
              "      <script>\n",
              "        async function quickchart(key) {\n",
              "          const quickchartButtonEl =\n",
              "            document.querySelector('#' + key + ' button');\n",
              "          quickchartButtonEl.disabled = true;  // To prevent multiple clicks.\n",
              "          quickchartButtonEl.classList.add('colab-df-spinner');\n",
              "          try {\n",
              "            const charts = await google.colab.kernel.invokeFunction(\n",
              "                'suggestCharts', [key], {});\n",
              "          } catch (error) {\n",
              "            console.error('Error during call to suggestCharts:', error);\n",
              "          }\n",
              "          quickchartButtonEl.classList.remove('colab-df-spinner');\n",
              "          quickchartButtonEl.classList.add('colab-df-quickchart-complete');\n",
              "        }\n",
              "        (() => {\n",
              "          let quickchartButtonEl =\n",
              "            document.querySelector('#df-e9eee35f-73ab-409c-aa3e-cdcc718104f5 button');\n",
              "          quickchartButtonEl.style.display =\n",
              "            google.colab.kernel.accessAllowed ? 'block' : 'none';\n",
              "        })();\n",
              "      </script>\n",
              "    </div>\n",
              "\n",
              "    </div>\n",
              "  </div>\n"
            ],
            "application/vnd.google.colaboratory.intrinsic+json": {
              "type": "dataframe",
              "variable_name": "data1",
              "summary": "{\n  \"name\": \"data1\",\n  \"rows\": 907,\n  \"fields\": [\n    {\n      \"column\": \"start_time\",\n      \"properties\": {\n        \"dtype\": \"object\",\n        \"num_unique_values\": 628,\n        \"samples\": [\n          \"6/05/2018 5:08\",\n          \"5/05/2018 0:43\",\n          \"2/05/2018 19:52\"\n        ],\n        \"semantic_type\": \"\",\n        \"description\": \"\"\n      }\n    },\n    {\n      \"column\": \"bat_landing_to_food\",\n      \"properties\": {\n        \"dtype\": \"number\",\n        \"std\": 27.644409680199573,\n        \"min\": 0.010238211,\n        \"max\": 443.0,\n        \"num_unique_values\": 204,\n        \"samples\": [\n          31.0,\n          5.0,\n          0.087634798\n        ],\n        \"semantic_type\": \"\",\n        \"description\": \"\"\n      }\n    },\n    {\n      \"column\": \"habit\",\n      \"properties\": {\n        \"dtype\": \"category\",\n        \"num_unique_values\": 81,\n        \"samples\": [\n          \"bat_and_pick\",\n          \"rat\",\n          \"373.0,80.0,504.0,148.0; 274.6,110.7,382.4,267.3\"\n        ],\n        \"semantic_type\": \"\",\n        \"description\": \"\"\n      }\n    },\n    {\n      \"column\": \"rat_period_start\",\n      \"properties\": {\n        \"dtype\": \"object\",\n        \"num_unique_values\": 268,\n        \"samples\": [\n          \"29/04/2018 3:33\",\n          \"21/05/2018 2:49\",\n          \"7/02/2018 18:29\"\n        ],\n        \"semantic_type\": \"\",\n        \"description\": \"\"\n      }\n    },\n    {\n      \"column\": \"rat_period_end\",\n      \"properties\": {\n        \"dtype\": \"object\",\n        \"num_unique_values\": 268,\n        \"samples\": [\n          \"29/04/2018 3:48\",\n          \"21/05/2018 2:57\",\n          \"7/02/2018 18:44\"\n        ],\n        \"semantic_type\": \"\",\n        \"description\": \"\"\n      }\n    },\n    {\n      \"column\": \"seconds_after_rat_arrival\",\n      \"properties\": {\n        \"dtype\": \"number\",\n        \"std\": 240,\n        \"min\": 0,\n        \"max\": 949,\n        \"num_unique_values\": 501,\n        \"samples\": [\n          214,\n          99,\n          520\n        ],\n        \"semantic_type\": \"\",\n        \"description\": \"\"\n      }\n    },\n    {\n      \"column\": \"risk\",\n      \"properties\": {\n        \"dtype\": \"number\",\n        \"std\": 0,\n        \"min\": 0,\n        \"max\": 1,\n        \"num_unique_values\": 2,\n        \"samples\": [\n          0,\n          1\n        ],\n        \"semantic_type\": \"\",\n        \"description\": \"\"\n      }\n    },\n    {\n      \"column\": \"reward\",\n      \"properties\": {\n        \"dtype\": \"number\",\n        \"std\": 0,\n        \"min\": 0,\n        \"max\": 1,\n        \"num_unique_values\": 2,\n        \"samples\": [\n          1,\n          0\n        ],\n        \"semantic_type\": \"\",\n        \"description\": \"\"\n      }\n    },\n    {\n      \"column\": \"month\",\n      \"properties\": {\n        \"dtype\": \"number\",\n        \"std\": 1,\n        \"min\": 0,\n        \"max\": 5,\n        \"num_unique_values\": 6,\n        \"samples\": [\n          0,\n          1\n        ],\n        \"semantic_type\": \"\",\n        \"description\": \"\"\n      }\n    },\n    {\n      \"column\": \"sunset_time\",\n      \"properties\": {\n        \"dtype\": \"object\",\n        \"num_unique_values\": 65,\n        \"samples\": [\n          \"9/05/2018 19:26\",\n          \"13/05/2018 19:29\"\n        ],\n        \"semantic_type\": \"\",\n        \"description\": \"\"\n      }\n    },\n    {\n      \"column\": \"hours_after_sunset\",\n      \"properties\": {\n        \"dtype\": \"number\",\n        \"std\": 2.414146393146927,\n        \"min\": -0.261666667,\n        \"max\": 12.09194444,\n        \"num_unique_values\": 895,\n        \"samples\": [\n          7.008055556,\n          4.036944444\n        ],\n        \"semantic_type\": \"\",\n        \"description\": \"\"\n      }\n    },\n    {\n      \"column\": \"season\",\n      \"properties\": {\n        \"dtype\": \"number\",\n        \"std\": 0,\n        \"min\": 0,\n        \"max\": 1,\n        \"num_unique_values\": 2,\n        \"samples\": [\n          1,\n          0\n        ],\n        \"semantic_type\": \"\",\n        \"description\": \"\"\n      }\n    }\n  ]\n}"
            }
          },
          "metadata": {},
          "execution_count": 58
        }
      ],
      "source": [
        "data1.head()"
      ]
    },
    {
      "cell_type": "code",
      "execution_count": null,
      "id": "e237a018-28ae-4c2d-98a2-bc7927c6596c",
      "metadata": {
        "colab": {
          "base_uri": "https://localhost:8080/",
          "height": 206
        },
        "id": "e237a018-28ae-4c2d-98a2-bc7927c6596c",
        "outputId": "9c0c35c0-208d-4f9a-8018-151ccf02cfff"
      },
      "outputs": [
        {
          "output_type": "execute_result",
          "data": {
            "text/plain": [
              "               time  month  hours_after_sunset  bat_landing_number  \\\n",
              "0  26/12/2017 16:13      0                -0.5                  20   \n",
              "1  26/12/2017 16:43      0                 0.0                  28   \n",
              "2  26/12/2017 17:13      0                 0.5                  25   \n",
              "3  26/12/2017 17:43      0                 1.0                  71   \n",
              "4  26/12/2017 18:13      0                 1.5                  44   \n",
              "\n",
              "   food_availability  rat_minutes  rat_arrival_number  \n",
              "0           4.000000          0.0                   0  \n",
              "1           4.000000          0.0                   0  \n",
              "2           4.000000          0.0                   0  \n",
              "3           4.000000          0.0                   0  \n",
              "4           3.753857          0.0                   0  "
            ],
            "text/html": [
              "\n",
              "  <div id=\"df-e5d2d20f-a749-4973-8ae3-94b7109907d8\" class=\"colab-df-container\">\n",
              "    <div>\n",
              "<style scoped>\n",
              "    .dataframe tbody tr th:only-of-type {\n",
              "        vertical-align: middle;\n",
              "    }\n",
              "\n",
              "    .dataframe tbody tr th {\n",
              "        vertical-align: top;\n",
              "    }\n",
              "\n",
              "    .dataframe thead th {\n",
              "        text-align: right;\n",
              "    }\n",
              "</style>\n",
              "<table border=\"1\" class=\"dataframe\">\n",
              "  <thead>\n",
              "    <tr style=\"text-align: right;\">\n",
              "      <th></th>\n",
              "      <th>time</th>\n",
              "      <th>month</th>\n",
              "      <th>hours_after_sunset</th>\n",
              "      <th>bat_landing_number</th>\n",
              "      <th>food_availability</th>\n",
              "      <th>rat_minutes</th>\n",
              "      <th>rat_arrival_number</th>\n",
              "    </tr>\n",
              "  </thead>\n",
              "  <tbody>\n",
              "    <tr>\n",
              "      <th>0</th>\n",
              "      <td>26/12/2017 16:13</td>\n",
              "      <td>0</td>\n",
              "      <td>-0.5</td>\n",
              "      <td>20</td>\n",
              "      <td>4.000000</td>\n",
              "      <td>0.0</td>\n",
              "      <td>0</td>\n",
              "    </tr>\n",
              "    <tr>\n",
              "      <th>1</th>\n",
              "      <td>26/12/2017 16:43</td>\n",
              "      <td>0</td>\n",
              "      <td>0.0</td>\n",
              "      <td>28</td>\n",
              "      <td>4.000000</td>\n",
              "      <td>0.0</td>\n",
              "      <td>0</td>\n",
              "    </tr>\n",
              "    <tr>\n",
              "      <th>2</th>\n",
              "      <td>26/12/2017 17:13</td>\n",
              "      <td>0</td>\n",
              "      <td>0.5</td>\n",
              "      <td>25</td>\n",
              "      <td>4.000000</td>\n",
              "      <td>0.0</td>\n",
              "      <td>0</td>\n",
              "    </tr>\n",
              "    <tr>\n",
              "      <th>3</th>\n",
              "      <td>26/12/2017 17:43</td>\n",
              "      <td>0</td>\n",
              "      <td>1.0</td>\n",
              "      <td>71</td>\n",
              "      <td>4.000000</td>\n",
              "      <td>0.0</td>\n",
              "      <td>0</td>\n",
              "    </tr>\n",
              "    <tr>\n",
              "      <th>4</th>\n",
              "      <td>26/12/2017 18:13</td>\n",
              "      <td>0</td>\n",
              "      <td>1.5</td>\n",
              "      <td>44</td>\n",
              "      <td>3.753857</td>\n",
              "      <td>0.0</td>\n",
              "      <td>0</td>\n",
              "    </tr>\n",
              "  </tbody>\n",
              "</table>\n",
              "</div>\n",
              "    <div class=\"colab-df-buttons\">\n",
              "\n",
              "  <div class=\"colab-df-container\">\n",
              "    <button class=\"colab-df-convert\" onclick=\"convertToInteractive('df-e5d2d20f-a749-4973-8ae3-94b7109907d8')\"\n",
              "            title=\"Convert this dataframe to an interactive table.\"\n",
              "            style=\"display:none;\">\n",
              "\n",
              "  <svg xmlns=\"http://www.w3.org/2000/svg\" height=\"24px\" viewBox=\"0 -960 960 960\">\n",
              "    <path d=\"M120-120v-720h720v720H120Zm60-500h600v-160H180v160Zm220 220h160v-160H400v160Zm0 220h160v-160H400v160ZM180-400h160v-160H180v160Zm440 0h160v-160H620v160ZM180-180h160v-160H180v160Zm440 0h160v-160H620v160Z\"/>\n",
              "  </svg>\n",
              "    </button>\n",
              "\n",
              "  <style>\n",
              "    .colab-df-container {\n",
              "      display:flex;\n",
              "      gap: 12px;\n",
              "    }\n",
              "\n",
              "    .colab-df-convert {\n",
              "      background-color: #E8F0FE;\n",
              "      border: none;\n",
              "      border-radius: 50%;\n",
              "      cursor: pointer;\n",
              "      display: none;\n",
              "      fill: #1967D2;\n",
              "      height: 32px;\n",
              "      padding: 0 0 0 0;\n",
              "      width: 32px;\n",
              "    }\n",
              "\n",
              "    .colab-df-convert:hover {\n",
              "      background-color: #E2EBFA;\n",
              "      box-shadow: 0px 1px 2px rgba(60, 64, 67, 0.3), 0px 1px 3px 1px rgba(60, 64, 67, 0.15);\n",
              "      fill: #174EA6;\n",
              "    }\n",
              "\n",
              "    .colab-df-buttons div {\n",
              "      margin-bottom: 4px;\n",
              "    }\n",
              "\n",
              "    [theme=dark] .colab-df-convert {\n",
              "      background-color: #3B4455;\n",
              "      fill: #D2E3FC;\n",
              "    }\n",
              "\n",
              "    [theme=dark] .colab-df-convert:hover {\n",
              "      background-color: #434B5C;\n",
              "      box-shadow: 0px 1px 3px 1px rgba(0, 0, 0, 0.15);\n",
              "      filter: drop-shadow(0px 1px 2px rgba(0, 0, 0, 0.3));\n",
              "      fill: #FFFFFF;\n",
              "    }\n",
              "  </style>\n",
              "\n",
              "    <script>\n",
              "      const buttonEl =\n",
              "        document.querySelector('#df-e5d2d20f-a749-4973-8ae3-94b7109907d8 button.colab-df-convert');\n",
              "      buttonEl.style.display =\n",
              "        google.colab.kernel.accessAllowed ? 'block' : 'none';\n",
              "\n",
              "      async function convertToInteractive(key) {\n",
              "        const element = document.querySelector('#df-e5d2d20f-a749-4973-8ae3-94b7109907d8');\n",
              "        const dataTable =\n",
              "          await google.colab.kernel.invokeFunction('convertToInteractive',\n",
              "                                                    [key], {});\n",
              "        if (!dataTable) return;\n",
              "\n",
              "        const docLinkHtml = 'Like what you see? Visit the ' +\n",
              "          '<a target=\"_blank\" href=https://colab.research.google.com/notebooks/data_table.ipynb>data table notebook</a>'\n",
              "          + ' to learn more about interactive tables.';\n",
              "        element.innerHTML = '';\n",
              "        dataTable['output_type'] = 'display_data';\n",
              "        await google.colab.output.renderOutput(dataTable, element);\n",
              "        const docLink = document.createElement('div');\n",
              "        docLink.innerHTML = docLinkHtml;\n",
              "        element.appendChild(docLink);\n",
              "      }\n",
              "    </script>\n",
              "  </div>\n",
              "\n",
              "\n",
              "    <div id=\"df-c54849f9-bcc0-446f-a48e-61a0baa9f3d3\">\n",
              "      <button class=\"colab-df-quickchart\" onclick=\"quickchart('df-c54849f9-bcc0-446f-a48e-61a0baa9f3d3')\"\n",
              "                title=\"Suggest charts\"\n",
              "                style=\"display:none;\">\n",
              "\n",
              "<svg xmlns=\"http://www.w3.org/2000/svg\" height=\"24px\"viewBox=\"0 0 24 24\"\n",
              "     width=\"24px\">\n",
              "    <g>\n",
              "        <path d=\"M19 3H5c-1.1 0-2 .9-2 2v14c0 1.1.9 2 2 2h14c1.1 0 2-.9 2-2V5c0-1.1-.9-2-2-2zM9 17H7v-7h2v7zm4 0h-2V7h2v10zm4 0h-2v-4h2v4z\"/>\n",
              "    </g>\n",
              "</svg>\n",
              "      </button>\n",
              "\n",
              "<style>\n",
              "  .colab-df-quickchart {\n",
              "      --bg-color: #E8F0FE;\n",
              "      --fill-color: #1967D2;\n",
              "      --hover-bg-color: #E2EBFA;\n",
              "      --hover-fill-color: #174EA6;\n",
              "      --disabled-fill-color: #AAA;\n",
              "      --disabled-bg-color: #DDD;\n",
              "  }\n",
              "\n",
              "  [theme=dark] .colab-df-quickchart {\n",
              "      --bg-color: #3B4455;\n",
              "      --fill-color: #D2E3FC;\n",
              "      --hover-bg-color: #434B5C;\n",
              "      --hover-fill-color: #FFFFFF;\n",
              "      --disabled-bg-color: #3B4455;\n",
              "      --disabled-fill-color: #666;\n",
              "  }\n",
              "\n",
              "  .colab-df-quickchart {\n",
              "    background-color: var(--bg-color);\n",
              "    border: none;\n",
              "    border-radius: 50%;\n",
              "    cursor: pointer;\n",
              "    display: none;\n",
              "    fill: var(--fill-color);\n",
              "    height: 32px;\n",
              "    padding: 0;\n",
              "    width: 32px;\n",
              "  }\n",
              "\n",
              "  .colab-df-quickchart:hover {\n",
              "    background-color: var(--hover-bg-color);\n",
              "    box-shadow: 0 1px 2px rgba(60, 64, 67, 0.3), 0 1px 3px 1px rgba(60, 64, 67, 0.15);\n",
              "    fill: var(--button-hover-fill-color);\n",
              "  }\n",
              "\n",
              "  .colab-df-quickchart-complete:disabled,\n",
              "  .colab-df-quickchart-complete:disabled:hover {\n",
              "    background-color: var(--disabled-bg-color);\n",
              "    fill: var(--disabled-fill-color);\n",
              "    box-shadow: none;\n",
              "  }\n",
              "\n",
              "  .colab-df-spinner {\n",
              "    border: 2px solid var(--fill-color);\n",
              "    border-color: transparent;\n",
              "    border-bottom-color: var(--fill-color);\n",
              "    animation:\n",
              "      spin 1s steps(1) infinite;\n",
              "  }\n",
              "\n",
              "  @keyframes spin {\n",
              "    0% {\n",
              "      border-color: transparent;\n",
              "      border-bottom-color: var(--fill-color);\n",
              "      border-left-color: var(--fill-color);\n",
              "    }\n",
              "    20% {\n",
              "      border-color: transparent;\n",
              "      border-left-color: var(--fill-color);\n",
              "      border-top-color: var(--fill-color);\n",
              "    }\n",
              "    30% {\n",
              "      border-color: transparent;\n",
              "      border-left-color: var(--fill-color);\n",
              "      border-top-color: var(--fill-color);\n",
              "      border-right-color: var(--fill-color);\n",
              "    }\n",
              "    40% {\n",
              "      border-color: transparent;\n",
              "      border-right-color: var(--fill-color);\n",
              "      border-top-color: var(--fill-color);\n",
              "    }\n",
              "    60% {\n",
              "      border-color: transparent;\n",
              "      border-right-color: var(--fill-color);\n",
              "    }\n",
              "    80% {\n",
              "      border-color: transparent;\n",
              "      border-right-color: var(--fill-color);\n",
              "      border-bottom-color: var(--fill-color);\n",
              "    }\n",
              "    90% {\n",
              "      border-color: transparent;\n",
              "      border-bottom-color: var(--fill-color);\n",
              "    }\n",
              "  }\n",
              "</style>\n",
              "\n",
              "      <script>\n",
              "        async function quickchart(key) {\n",
              "          const quickchartButtonEl =\n",
              "            document.querySelector('#' + key + ' button');\n",
              "          quickchartButtonEl.disabled = true;  // To prevent multiple clicks.\n",
              "          quickchartButtonEl.classList.add('colab-df-spinner');\n",
              "          try {\n",
              "            const charts = await google.colab.kernel.invokeFunction(\n",
              "                'suggestCharts', [key], {});\n",
              "          } catch (error) {\n",
              "            console.error('Error during call to suggestCharts:', error);\n",
              "          }\n",
              "          quickchartButtonEl.classList.remove('colab-df-spinner');\n",
              "          quickchartButtonEl.classList.add('colab-df-quickchart-complete');\n",
              "        }\n",
              "        (() => {\n",
              "          let quickchartButtonEl =\n",
              "            document.querySelector('#df-c54849f9-bcc0-446f-a48e-61a0baa9f3d3 button');\n",
              "          quickchartButtonEl.style.display =\n",
              "            google.colab.kernel.accessAllowed ? 'block' : 'none';\n",
              "        })();\n",
              "      </script>\n",
              "    </div>\n",
              "\n",
              "    </div>\n",
              "  </div>\n"
            ],
            "application/vnd.google.colaboratory.intrinsic+json": {
              "type": "dataframe",
              "variable_name": "data2",
              "summary": "{\n  \"name\": \"data2\",\n  \"rows\": 2123,\n  \"fields\": [\n    {\n      \"column\": \"time\",\n      \"properties\": {\n        \"dtype\": \"object\",\n        \"num_unique_values\": 2123,\n        \"samples\": [\n          \"18/02/2018 0:58\",\n          \"14/05/2018 7:59\",\n          \"27/04/2018 21:48\"\n        ],\n        \"semantic_type\": \"\",\n        \"description\": \"\"\n      }\n    },\n    {\n      \"column\": \"month\",\n      \"properties\": {\n        \"dtype\": \"number\",\n        \"std\": 1,\n        \"min\": 0,\n        \"max\": 6,\n        \"num_unique_values\": 7,\n        \"samples\": [\n          0,\n          1,\n          5\n        ],\n        \"semantic_type\": \"\",\n        \"description\": \"\"\n      }\n    },\n    {\n      \"column\": \"hours_after_sunset\",\n      \"properties\": {\n        \"dtype\": \"number\",\n        \"std\": 4.076187850626769,\n        \"min\": -2.0,\n        \"max\": 13.5,\n        \"num_unique_values\": 32,\n        \"samples\": [\n          12.5,\n          7.0,\n          11.5\n        ],\n        \"semantic_type\": \"\",\n        \"description\": \"\"\n      }\n    },\n    {\n      \"column\": \"bat_landing_number\",\n      \"properties\": {\n        \"dtype\": \"number\",\n        \"std\": 25,\n        \"min\": 0,\n        \"max\": 178,\n        \"num_unique_values\": 119,\n        \"samples\": [\n          59,\n          76,\n          44\n        ],\n        \"semantic_type\": \"\",\n        \"description\": \"\"\n      }\n    },\n    {\n      \"column\": \"food_availability\",\n      \"properties\": {\n        \"dtype\": \"number\",\n        \"std\": 1.2183527609819746,\n        \"min\": 0.0,\n        \"max\": 4.0,\n        \"num_unique_values\": 600,\n        \"samples\": [\n          1.863978495,\n          2.102150538,\n          2.217741935\n        ],\n        \"semantic_type\": \"\",\n        \"description\": \"\"\n      }\n    },\n    {\n      \"column\": \"rat_minutes\",\n      \"properties\": {\n        \"dtype\": \"number\",\n        \"std\": 6.79339735687167,\n        \"min\": 0.0,\n        \"max\": 120.0,\n        \"num_unique_values\": 401,\n        \"samples\": [\n          16.41666667,\n          8.916666667,\n          1.15\n        ],\n        \"semantic_type\": \"\",\n        \"description\": \"\"\n      }\n    },\n    {\n      \"column\": \"rat_arrival_number\",\n      \"properties\": {\n        \"dtype\": \"number\",\n        \"std\": 1,\n        \"min\": 0,\n        \"max\": 17,\n        \"num_unique_values\": 10,\n        \"samples\": [\n          7,\n          2,\n          8\n        ],\n        \"semantic_type\": \"\",\n        \"description\": \"\"\n      }\n    }\n  ]\n}"
            }
          },
          "metadata": {},
          "execution_count": 59
        }
      ],
      "source": [
        "data2.head()"
      ]
    },
    {
      "cell_type": "markdown",
      "id": "d3e8ffea-0203-4977-9511-347ba7728e32",
      "metadata": {
        "id": "d3e8ffea-0203-4977-9511-347ba7728e32"
      },
      "source": [
        "data1 preprocessing phase\n"
      ]
    },
    {
      "cell_type": "code",
      "execution_count": null,
      "id": "67f09854-8a67-429f-9208-9357710922be",
      "metadata": {
        "colab": {
          "base_uri": "https://localhost:8080/"
        },
        "id": "67f09854-8a67-429f-9208-9357710922be",
        "outputId": "d5bb72ae-ba3d-44df-ea47-e8449b048d4a"
      },
      "outputs": [
        {
          "output_type": "stream",
          "name": "stdout",
          "text": [
            "<class 'pandas.core.frame.DataFrame'>\n",
            "RangeIndex: 907 entries, 0 to 906\n",
            "Data columns (total 12 columns):\n",
            " #   Column                     Non-Null Count  Dtype  \n",
            "---  ------                     --------------  -----  \n",
            " 0   start_time                 907 non-null    object \n",
            " 1   bat_landing_to_food        907 non-null    float64\n",
            " 2   habit                      866 non-null    object \n",
            " 3   rat_period_start           907 non-null    object \n",
            " 4   rat_period_end             907 non-null    object \n",
            " 5   seconds_after_rat_arrival  907 non-null    int64  \n",
            " 6   risk                       907 non-null    int64  \n",
            " 7   reward                     907 non-null    int64  \n",
            " 8   month                      907 non-null    int64  \n",
            " 9   sunset_time                907 non-null    object \n",
            " 10  hours_after_sunset         907 non-null    float64\n",
            " 11  season                     907 non-null    int64  \n",
            "dtypes: float64(2), int64(5), object(5)\n",
            "memory usage: 85.2+ KB\n"
          ]
        }
      ],
      "source": [
        "data1.info()"
      ]
    },
    {
      "cell_type": "code",
      "execution_count": null,
      "id": "1429ae9c-6b3e-4d54-9464-9aa6c79c8801",
      "metadata": {
        "colab": {
          "base_uri": "https://localhost:8080/"
        },
        "id": "1429ae9c-6b3e-4d54-9464-9aa6c79c8801",
        "outputId": "b9ab1f90-02f9-47f3-d84f-279fdc740e55"
      },
      "outputs": [
        {
          "output_type": "stream",
          "name": "stdout",
          "text": [
            "<class 'pandas.core.frame.DataFrame'>\n",
            "RangeIndex: 2123 entries, 0 to 2122\n",
            "Data columns (total 7 columns):\n",
            " #   Column              Non-Null Count  Dtype  \n",
            "---  ------              --------------  -----  \n",
            " 0   time                2123 non-null   object \n",
            " 1   month               2123 non-null   int64  \n",
            " 2   hours_after_sunset  2123 non-null   float64\n",
            " 3   bat_landing_number  2123 non-null   int64  \n",
            " 4   food_availability   2123 non-null   float64\n",
            " 5   rat_minutes         2123 non-null   float64\n",
            " 6   rat_arrival_number  2123 non-null   int64  \n",
            "dtypes: float64(3), int64(3), object(1)\n",
            "memory usage: 116.2+ KB\n"
          ]
        }
      ],
      "source": [
        "data2.info()"
      ]
    },
    {
      "cell_type": "code",
      "execution_count": null,
      "id": "e8c5d88d-7004-4406-9dd8-da4a17b2b861",
      "metadata": {
        "colab": {
          "base_uri": "https://localhost:8080/",
          "height": 303
        },
        "id": "e8c5d88d-7004-4406-9dd8-da4a17b2b861",
        "outputId": "3a2ec356-b9f2-49cc-eaf5-6714ebbbdce2"
      },
      "outputs": [
        {
          "output_type": "execute_result",
          "data": {
            "text/plain": [
              "time                  0\n",
              "month                 0\n",
              "hours_after_sunset    0\n",
              "bat_landing_number    0\n",
              "food_availability     0\n",
              "rat_minutes           0\n",
              "rat_arrival_number    0\n",
              "dtype: int64"
            ],
            "text/html": [
              "<div>\n",
              "<style scoped>\n",
              "    .dataframe tbody tr th:only-of-type {\n",
              "        vertical-align: middle;\n",
              "    }\n",
              "\n",
              "    .dataframe tbody tr th {\n",
              "        vertical-align: top;\n",
              "    }\n",
              "\n",
              "    .dataframe thead th {\n",
              "        text-align: right;\n",
              "    }\n",
              "</style>\n",
              "<table border=\"1\" class=\"dataframe\">\n",
              "  <thead>\n",
              "    <tr style=\"text-align: right;\">\n",
              "      <th></th>\n",
              "      <th>0</th>\n",
              "    </tr>\n",
              "  </thead>\n",
              "  <tbody>\n",
              "    <tr>\n",
              "      <th>time</th>\n",
              "      <td>0</td>\n",
              "    </tr>\n",
              "    <tr>\n",
              "      <th>month</th>\n",
              "      <td>0</td>\n",
              "    </tr>\n",
              "    <tr>\n",
              "      <th>hours_after_sunset</th>\n",
              "      <td>0</td>\n",
              "    </tr>\n",
              "    <tr>\n",
              "      <th>bat_landing_number</th>\n",
              "      <td>0</td>\n",
              "    </tr>\n",
              "    <tr>\n",
              "      <th>food_availability</th>\n",
              "      <td>0</td>\n",
              "    </tr>\n",
              "    <tr>\n",
              "      <th>rat_minutes</th>\n",
              "      <td>0</td>\n",
              "    </tr>\n",
              "    <tr>\n",
              "      <th>rat_arrival_number</th>\n",
              "      <td>0</td>\n",
              "    </tr>\n",
              "  </tbody>\n",
              "</table>\n",
              "</div><br><label><b>dtype:</b> int64</label>"
            ]
          },
          "metadata": {},
          "execution_count": 62
        }
      ],
      "source": [
        "data2.isnull().sum()"
      ]
    },
    {
      "cell_type": "code",
      "execution_count": null,
      "id": "cce5f411-1fb4-4843-b361-737091bbca31",
      "metadata": {
        "colab": {
          "base_uri": "https://localhost:8080/"
        },
        "id": "cce5f411-1fb4-4843-b361-737091bbca31",
        "outputId": "645234a7-b067-430b-ebbe-f75d6d6b1dd1"
      },
      "outputs": [
        {
          "output_type": "execute_result",
          "data": {
            "text/plain": [
              "81"
            ]
          },
          "metadata": {},
          "execution_count": 63
        }
      ],
      "source": [
        "data1['habit'].nunique()"
      ]
    },
    {
      "cell_type": "code",
      "execution_count": null,
      "id": "b8eda1ec-ba7a-4952-a3fd-429fae38d7bd",
      "metadata": {
        "colab": {
          "base_uri": "https://localhost:8080/"
        },
        "id": "b8eda1ec-ba7a-4952-a3fd-429fae38d7bd",
        "outputId": "45bb2574-9e4c-45b9-d571-1fdcd72fa199"
      },
      "outputs": [
        {
          "output_type": "stream",
          "name": "stdout",
          "text": [
            "['rat' 'fast' 'pick' 'bat_fight' 'rat_and_no_food' nan 'rat_and_others'\n",
            " 'pick_and_others' 'gaze' 'pick_rat' 'bat' 'both' 'pick_bat'\n",
            " '94.0,305.0,239.0,416.0; 364.8,139.3,462.3,241.3' 'rat attack'\n",
            " 'attack_rat' 'bat_and_rat' 'rat_attack' 'other_bats' 'rat_pick'\n",
            " 'rat_and_bat' 'bowl_out' 'other_bat'\n",
            " '373.0,80.0,504.0,148.0; 274.6,110.7,382.4,267.3' 'other'\n",
            " '245.6,179.5,321.4,314.0; 522.4,0.3,592.0,95.5' 'eating' 'rat_to_bat'\n",
            " 'other_bats/rat'\n",
            " '405.6,112.3,513.1,215.4; 464.1,197.7,614.9,334.3; 511.5,301.1,639.4,388.9'\n",
            " 'pick_and_all' 'bat_and_pick' 'bat_fight_and_pick'\n",
            " '187.0,152.0,304.0,240.0; 567.9,88.6,621.1,140.3'\n",
            " '44.0,77.0,157.0,240.0; 253.0,96.0,346.0,147.0'\n",
            " '397.7,159.7,580.2,330.5; 252.0,92.0,346.0,149.0' 'pick_and_bat'\n",
            " '218.0,171.0,381.0,269.0; 239.0,106.0,315.0,155.0'\n",
            " '423.0,155.9,535.6,370.9; 238.0,99.0,314.0,160.0'\n",
            " 'eating_and_bat_and_pick' 'bat_figiht' 'bat_pick_rat'\n",
            " '415.0,86.5,559.2,140.2; 66.0,157.0,285.0,279.0' 'rat_pick_and_bat'\n",
            " 'pick_and_rat' 'fight_rat' 'all_pick' 'no_food' 'bats' 'others'\n",
            " 'rat_and_pick' '157.0,2.6,349.0,159.3; 572.1,275.7,638.3,360.0'\n",
            " 'pick_rat_bat' 'bat_and_pick_far' 'fast_far'\n",
            " '530.0,20.0,611.0,156.0; 227.6,128.8,290.8,208.0' 'fight' 'bat_rat_pick'\n",
            " 'bat_pick' 'rat_disappear' 'eating_bat_rat_pick' 'fast_and_pick'\n",
            " 'other directions' '243.6,235.6,432.2,329.8; 559.0,244.0,622.0,395.0'\n",
            " 'bat_fight_rat' 'bat_rat' 'pup_and_mon' 'pick_eating_all'\n",
            " '511.7,236.3,632.2,404.5; 445.0,199.0,503.0,245.0' 'pick_bat_rat'\n",
            " '417.7,117.1,635.5,346.0; 243.0,272.0,308.0,379.0; 438.0,230.0,494.0,291.0'\n",
            " 'rat_bat' 'rat_bat_fight' 'eating_bat_pick' 'pick_rat_and_bat'\n",
            " 'fight_bat' '380.6,321.1,550.6,477.5; 263.0,267.0,421.0,435.0'\n",
            " 'bat_fight_and_rat' 'rat_and_rat' 'not_sure_rat'\n",
            " '501.0,358.4,636.2,423.4; 476.0,103.0,634.0,206.0' 'rat_and_bat_and_pick']\n"
          ]
        }
      ],
      "source": [
        "habits_values = data1['habit'].unique()\n",
        "print(habits_values)"
      ]
    },
    {
      "cell_type": "code",
      "execution_count": null,
      "id": "59ec9b9c-c43e-439f-bd7a-a620f08382c6",
      "metadata": {
        "id": "59ec9b9c-c43e-439f-bd7a-a620f08382c6"
      },
      "outputs": [],
      "source": [
        "data1['habit'] = data1['habit'].astype(str).str.lower().str.strip()"
      ]
    },
    {
      "cell_type": "code",
      "execution_count": null,
      "id": "319f61ab-c360-452d-8c3c-146e940278e6",
      "metadata": {
        "id": "319f61ab-c360-452d-8c3c-146e940278e6"
      },
      "outputs": [],
      "source": [
        "import numpy as np\n",
        "is_numeric = data1['habit'].str.contains(r'\\d', na=False)\n",
        "data1.loc[is_numeric, 'habit'] = np.nan"
      ]
    },
    {
      "cell_type": "code",
      "execution_count": null,
      "id": "3423cac7-2868-454e-8382-1e97cce3a737",
      "metadata": {
        "id": "3423cac7-2868-454e-8382-1e97cce3a737"
      },
      "outputs": [],
      "source": [
        "data1['habit'] = data1['habit'].fillna('unknown')\n",
        "# data1.dropna(subset=['habit'], inplace=True)"
      ]
    },
    {
      "cell_type": "code",
      "execution_count": null,
      "id": "e79c9655-30f1-438b-a1f5-039b5f53a236",
      "metadata": {
        "id": "e79c9655-30f1-438b-a1f5-039b5f53a236"
      },
      "outputs": [],
      "source": [
        "data1['habit'] = data1['habit'].str.replace(' ', '_').str.replace('/', '_')"
      ]
    },
    {
      "cell_type": "code",
      "execution_count": null,
      "id": "c16710ed-a85b-4936-a5c9-ac896efb8995",
      "metadata": {
        "id": "c16710ed-a85b-4936-a5c9-ac896efb8995"
      },
      "outputs": [],
      "source": [
        "replacements = {\n",
        "    \"figiht\": \"fight\",\n",
        "    \"eatting\": \"eat\",\n",
        "    \"eating\": \"eat\",\n",
        "    \"attackrat\": \"rat_attack\",\n",
        "    \"attack_rat\": \"rat_attack\",\n",
        "    \"bat_figiht\": \"bat_fight\",\n",
        "    \"batandpick\": \"bat_pick\",\n",
        "    \"pickandbat\": \"bat_pick\",\n",
        "    \"batandrat\": \"rat_bat\",\n",
        "    \"ratandbat\": \"rat_bat\",\n",
        "    \"bat_rat\":\"rat_bat\",\n",
        "    \"pick_and_rat\":\"rat_and_pick\",\n",
        "    \"bat_and_rat\":\"rat_and_bat\",\n",
        "    \"pick_rat\":\"rat_pick\",\n",
        "}\n",
        "data1['habit'] = data1['habit'].apply(lambda x: replacements.get(x, x))"
      ]
    },
    {
      "cell_type": "code",
      "execution_count": null,
      "id": "f26fa357-e890-486b-b6ee-defb58f3935f",
      "metadata": {
        "colab": {
          "base_uri": "https://localhost:8080/"
        },
        "id": "f26fa357-e890-486b-b6ee-defb58f3935f",
        "outputId": "6e1b9a31-9315-4b63-a66b-0fe6cd8de2d1"
      },
      "outputs": [
        {
          "output_type": "stream",
          "name": "stdout",
          "text": [
            "['rat' 'fast' 'pick' 'bat_fight' 'rat_and_no_food' 'nan' 'rat_and_others'\n",
            " 'pick_and_others' 'gaze' 'rat_pick' 'bat' 'both' 'pick_bat' 'unknown'\n",
            " 'rat_attack' 'rat_and_bat' 'other_bats' 'bowl_out' 'other_bat' 'other'\n",
            " 'eat' 'rat_to_bat' 'other_bats_rat' 'pick_and_all' 'bat_and_pick'\n",
            " 'bat_fight_and_pick' 'pick_and_bat' 'eating_and_bat_and_pick'\n",
            " 'bat_pick_rat' 'rat_pick_and_bat' 'rat_and_pick' 'fight_rat' 'all_pick'\n",
            " 'no_food' 'bats' 'others' 'pick_rat_bat' 'bat_and_pick_far' 'fast_far'\n",
            " 'fight' 'bat_rat_pick' 'bat_pick' 'rat_disappear' 'eating_bat_rat_pick'\n",
            " 'fast_and_pick' 'other_directions' 'bat_fight_rat' 'rat_bat'\n",
            " 'pup_and_mon' 'pick_eating_all' 'pick_bat_rat' 'rat_bat_fight'\n",
            " 'eating_bat_pick' 'pick_rat_and_bat' 'fight_bat' 'bat_fight_and_rat'\n",
            " 'rat_and_rat' 'not_sure_rat' 'rat_and_bat_and_pick']\n"
          ]
        }
      ],
      "source": [
        "habits_values = data1['habit'].unique()\n",
        "print(habits_values)"
      ]
    },
    {
      "cell_type": "code",
      "execution_count": null,
      "id": "11f7e2aa-d545-43cc-8ced-7d3bd7a7a890",
      "metadata": {
        "id": "11f7e2aa-d545-43cc-8ced-7d3bd7a7a890"
      },
      "outputs": [],
      "source": []
    },
    {
      "cell_type": "code",
      "execution_count": null,
      "id": "8c4026db-b1d6-498a-abe0-bd99b1e20375",
      "metadata": {
        "id": "8c4026db-b1d6-498a-abe0-bd99b1e20375"
      },
      "outputs": [],
      "source": []
    },
    {
      "cell_type": "code",
      "execution_count": null,
      "id": "11489229-7e12-494f-bf98-d23086dc18e7",
      "metadata": {
        "colab": {
          "base_uri": "https://localhost:8080/"
        },
        "id": "11489229-7e12-494f-bf98-d23086dc18e7",
        "outputId": "b6a25bed-8054-46aa-9d1c-72033cad6f01"
      },
      "outputs": [
        {
          "output_type": "stream",
          "name": "stdout",
          "text": [
            "<class 'pandas.core.frame.DataFrame'>\n",
            "RangeIndex: 907 entries, 0 to 906\n",
            "Data columns (total 12 columns):\n",
            " #   Column                     Non-Null Count  Dtype  \n",
            "---  ------                     --------------  -----  \n",
            " 0   start_time                 907 non-null    object \n",
            " 1   bat_landing_to_food        907 non-null    float64\n",
            " 2   habit                      907 non-null    object \n",
            " 3   rat_period_start           907 non-null    object \n",
            " 4   rat_period_end             907 non-null    object \n",
            " 5   seconds_after_rat_arrival  907 non-null    int64  \n",
            " 6   risk                       907 non-null    int64  \n",
            " 7   reward                     907 non-null    int64  \n",
            " 8   month                      907 non-null    int64  \n",
            " 9   sunset_time                907 non-null    object \n",
            " 10  hours_after_sunset         907 non-null    float64\n",
            " 11  season                     907 non-null    int64  \n",
            "dtypes: float64(2), int64(5), object(5)\n",
            "memory usage: 85.2+ KB\n"
          ]
        }
      ],
      "source": [
        "data1.info()"
      ]
    },
    {
      "cell_type": "code",
      "execution_count": null,
      "id": "35522f3d-9e60-4a87-8557-1ee0afff7a38",
      "metadata": {
        "id": "35522f3d-9e60-4a87-8557-1ee0afff7a38"
      },
      "outputs": [],
      "source": [
        "data1['risk'] = data1['risk'].astype(int)"
      ]
    },
    {
      "cell_type": "code",
      "execution_count": null,
      "id": "09889799-ec74-422a-993e-26acabbdb91a",
      "metadata": {
        "colab": {
          "base_uri": "https://localhost:8080/",
          "height": 178
        },
        "id": "09889799-ec74-422a-993e-26acabbdb91a",
        "outputId": "7e30d8a5-8cf9-4639-da1f-da29e2b5c59c"
      },
      "outputs": [
        {
          "output_type": "execute_result",
          "data": {
            "text/plain": [
              "risk\n",
              "0    0.842795\n",
              "1    0.218263\n",
              "Name: reward, dtype: float64"
            ],
            "text/html": [
              "<div>\n",
              "<style scoped>\n",
              "    .dataframe tbody tr th:only-of-type {\n",
              "        vertical-align: middle;\n",
              "    }\n",
              "\n",
              "    .dataframe tbody tr th {\n",
              "        vertical-align: top;\n",
              "    }\n",
              "\n",
              "    .dataframe thead th {\n",
              "        text-align: right;\n",
              "    }\n",
              "</style>\n",
              "<table border=\"1\" class=\"dataframe\">\n",
              "  <thead>\n",
              "    <tr style=\"text-align: right;\">\n",
              "      <th></th>\n",
              "      <th>reward</th>\n",
              "    </tr>\n",
              "    <tr>\n",
              "      <th>risk</th>\n",
              "      <th></th>\n",
              "    </tr>\n",
              "  </thead>\n",
              "  <tbody>\n",
              "    <tr>\n",
              "      <th>0</th>\n",
              "      <td>0.842795</td>\n",
              "    </tr>\n",
              "    <tr>\n",
              "      <th>1</th>\n",
              "      <td>0.218263</td>\n",
              "    </tr>\n",
              "  </tbody>\n",
              "</table>\n",
              "</div><br><label><b>dtype:</b> float64</label>"
            ]
          },
          "metadata": {},
          "execution_count": 73
        }
      ],
      "source": [
        "reward_rat = data1.groupby('risk')['reward'].mean()\n",
        "reward_rat"
      ]
    },
    {
      "cell_type": "code",
      "execution_count": null,
      "id": "6bdfdfb2-1946-4e9a-9b0a-157a9cb29628",
      "metadata": {
        "id": "6bdfdfb2-1946-4e9a-9b0a-157a9cb29628"
      },
      "outputs": [],
      "source": [
        "from scipy.stats import chi2_contingency"
      ]
    },
    {
      "cell_type": "code",
      "execution_count": null,
      "id": "19c47ec7-7ba2-44d5-9c01-a8b4528635a0",
      "metadata": {
        "id": "19c47ec7-7ba2-44d5-9c01-a8b4528635a0"
      },
      "outputs": [],
      "source": [
        "contingence = pd.crosstab(data1['risk'], data1['reward'])\n",
        "_,p_value,_,_= chi2_contingency(contingence)"
      ]
    },
    {
      "cell_type": "code",
      "execution_count": null,
      "id": "b9e9789a-58c0-471c-a76e-4952fda077c7",
      "metadata": {
        "colab": {
          "base_uri": "https://localhost:8080/"
        },
        "id": "b9e9789a-58c0-471c-a76e-4952fda077c7",
        "outputId": "9746123e-149b-4be5-910f-8ec54b82b49e"
      },
      "outputs": [
        {
          "output_type": "stream",
          "name": "stdout",
          "text": [
            "1.0233966969013452e-78\n"
          ]
        }
      ],
      "source": [
        "print(p_value)"
      ]
    },
    {
      "cell_type": "markdown",
      "id": "91ddb4fb-84d2-48f3-b838-1357d1800cf6",
      "metadata": {
        "id": "91ddb4fb-84d2-48f3-b838-1357d1800cf6"
      },
      "source": [
        "p value is ~ 0 so hypothesis 1 is valid"
      ]
    },
    {
      "cell_type": "code",
      "execution_count": null,
      "id": "b593730c-e7af-4923-8b9e-8a56c1f01f8b",
      "metadata": {
        "colab": {
          "base_uri": "https://localhost:8080/",
          "height": 410
        },
        "id": "b593730c-e7af-4923-8b9e-8a56c1f01f8b",
        "outputId": "7b41c2b8-bf4a-4f3c-cd7a-0874b1e712e1"
      },
      "outputs": [
        {
          "output_type": "display_data",
          "data": {
            "text/plain": [
              "<Figure size 600x400 with 1 Axes>"
            ],
            "image/png": "[encoded data removed]"
          },
          "metadata": {}
        }
      ],
      "source": [
        "plt.figure(figsize=(6,4))\n",
        "sns.boxplot(x=data1['risk'], y=data1['seconds_after_rat_arrival'])\n",
        "plt.title(\"Seconds after Rat Arrival vs Risk Behaviour\")\n",
        "plt.xlabel(\"Risk Behaviour (0=Avoid, 1=Risk-Taking)\")\n",
        "plt.ylabel(\"Seconds after Rat Arrival\")\n",
        "plt.show()"
      ]
    },
    {
      "cell_type": "code",
      "execution_count": null,
      "id": "18992048-0b1f-41a3-9757-3eb6bc74896a",
      "metadata": {
        "colab": {
          "base_uri": "https://localhost:8080/"
        },
        "id": "18992048-0b1f-41a3-9757-3eb6bc74896a",
        "outputId": "23aacc35-cc82-43fe-b5e3-96db7259bad2"
      },
      "outputs": [
        {
          "output_type": "stream",
          "name": "stdout",
          "text": [
            "Correlation -0.14622750084478847\n"
          ]
        }
      ],
      "source": [
        "correlation = data2['rat_minutes'].corr(data2['bat_landing_number'])\n",
        "print(\"Correlation\", correlation)"
      ]
    },
    {
      "cell_type": "markdown",
      "id": "b2ada5ac-548e-42ff-9626-7936eb0b7ff4",
      "metadata": {
        "id": "b2ada5ac-548e-42ff-9626-7936eb0b7ff4"
      },
      "source": [
        "The negative correlation indicates, more the rat stays, less the landing occurs as shown in\n",
        "scatter plot.\n",
        "The above chi square subject the dependency on risk and reward\n",
        "this support the idea that the bats percive the rats as a potentail predators."
      ]
    },
    {
      "cell_type": "code",
      "execution_count": null,
      "id": "3207d887-f3a2-410d-b96c-9fafc34e526d",
      "metadata": {
        "id": "3207d887-f3a2-410d-b96c-9fafc34e526d"
      },
      "outputs": [],
      "source": []
    },
    {
      "cell_type": "code",
      "execution_count": null,
      "id": "e608ecae-2bb7-4d8d-8de3-0755611de617",
      "metadata": {
        "id": "e608ecae-2bb7-4d8d-8de3-0755611de617"
      },
      "outputs": [],
      "source": []
    }
  ],
  "metadata": {
    "kernelspec": {
      "display_name": "base",
      "language": "python",
      "name": "python3"
    },
    "language_info": {
      "codemirror_mode": {
        "name": "ipython",
        "version": 3
      },
      "file_extension": ".py",
      "mimetype": "text/x-python",
      "name": "python",
      "nbconvert_exporter": "python",
      "pygments_lexer": "ipython3",
      "version": "3.9.12"
    },
    "colab": {
      "provenance": [],
      "include_colab_link": true
    }
  },
  "nbformat": 4,
  "nbformat_minor": 5
}