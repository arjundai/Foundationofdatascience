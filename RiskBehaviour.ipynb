{
  "cells": [
    {
      "cell_type": "markdown",
      "metadata": {
        "id": "view-in-github",
        "colab_type": "text"
      },
      "source": [
        "<a href=\"https://colab.research.google.com/github/arjundai/Foundationofdatascience/blob/main/RiskBehaviour.ipynb\" target=\"_parent\"><img src=\"https://colab.research.google.com/assets/colab-badge.svg\" alt=\"Open In Colab\"/></a>"
      ]
    },
    {
      "cell_type": "code",
      "execution_count": 52,
      "id": "68852a7f-ed47-4139-ac46-36b060335cf0",
      "metadata": {
        "id": "68852a7f-ed47-4139-ac46-36b060335cf0"
      },
      "outputs": [],
      "source": [
        "import pandas as pd\n",
        "import matplotlib.pyplot as plt\n",
        "import seaborn as sns"
      ]
    },
    {
      "cell_type": "code",
      "source": [
        "from google.colab import drive\n",
        "drive.mount('/content/drive')"
      ],
      "metadata": {
        "colab": {
          "base_uri": "https://localhost:8080/"
        },
        "id": "JkAEwnYmTS9j",
        "outputId": "a019343e-8d09-44dd-ff06-de8350d96996"
      },
      "id": "JkAEwnYmTS9j",
      "execution_count": 53,
      "outputs": [
        {
          "output_type": "stream",
          "name": "stdout",
          "text": [
            "Drive already mounted at /content/drive; to attempt to forcibly remount, call drive.mount(\"/content/drive\", force_remount=True).\n"
          ]
        }
      ]
    },
    {
      "cell_type": "code",
      "execution_count": 54,
      "id": "2c3781a5-6357-436a-a033-2508c2859341",
      "metadata": {
        "id": "2c3781a5-6357-436a-a033-2508c2859341"
      },
      "outputs": [],
      "source": [
        "data1 = pd.read_csv(\"/content/drive/My Drive/dataset1 (1).csv\")"
      ]
    },
    {
      "cell_type": "code",
      "metadata": {
        "colab": {
          "base_uri": "https://localhost:8080/"
        },
        "id": "dcbe4f5b",
        "outputId": "1af477cf-dac2-49b4-d9be-7759290427b5"
      },
      "source": [
        "import os\n",
        "\n",
        "# List files in the root of My Drive\n",
        "drive_root = '/content/drive/My Drive/'\n",
        "print(f\"Files in {drive_root}:\")\n",
        "for root, dirs, files in os.walk(drive_root):\n",
        "    for file in files:\n",
        "        print(os.path.join(root, file))\n",
        "    # To avoid listing too many files, you can limit the depth of the search\n",
        "    # by commenting out or modifying the following line:\n",
        "    break # Remove this line to search subfolders"
      ],
      "id": "dcbe4f5b",
      "execution_count": 55,
      "outputs": [
        {
          "output_type": "stream",
          "name": "stdout",
          "text": [
            "Files in /content/drive/My Drive/:\n",
            "/content/drive/My Drive/0-8179796287_20210919_102401_0000.pdf\n",
            "/content/drive/My Drive/CamScanner 10-28-2021 10.27.pdf\n",
            "/content/drive/My Drive/COE (1).pdf\n",
            "/content/drive/My Drive/s257A (s40) Requirement to Provide Biometrics(1) (1).pdf\n",
            "/content/drive/My Drive/s257A (s40) Requirement to Provide Biometrics(1).pdf\n",
            "/content/drive/My Drive/IMMI Grant Notification(3) (6).pdf\n",
            "/content/drive/My Drive/IMMI Grant Notification(3) (5).pdf\n",
            "/content/drive/My Drive/IMMI Grant Notification(3) (4).pdf\n",
            "/content/drive/My Drive/IMMI Grant Notification(3) (3).pdf\n",
            "/content/drive/My Drive/IMMI Grant Notification(3) (2).pdf\n",
            "/content/drive/My Drive/IMMI Grant Notification(3) (1).pdf\n",
            "/content/drive/My Drive/IMMI Grant Notification(3).pdf\n",
            "/content/drive/My Drive/Check List  form.pdf\n",
            "/content/drive/My Drive/Consolidated Interview Questions V1.6 - Copy.pdf\n",
            "/content/drive/My Drive/Pre_employment_questionnaire_062020.pdf\n",
            "/content/drive/My Drive/Student ID Number.docx\n",
            "/content/drive/My Drive/5834084-422658504-1982738 (1).edited.docx\n",
            "/content/drive/My Drive/5834084-422658504-1982738.edited.docx\n",
            "/content/drive/My Drive/Comp_Fundamentals (3).docx\n",
            "/content/drive/My Drive/OS_T1 (1).docx\n",
            "/content/drive/My Drive/cover.pptx\n",
            "/content/drive/My Drive/evolution of Remote work (1).docx\n",
            "/content/drive/My Drive/evolution of Remote work.docx\n",
            "/content/drive/My Drive/Payslip(400127)(KADARIYA)(8052022) (1).pdf\n",
            "/content/drive/My Drive/Payslip(400127)(KADARIYA)(8052022).pdf\n",
            "/content/drive/My Drive/Communication Report.docx\n",
            "/content/drive/My Drive/Lab 10 IO Module.docx\n",
            "/content/drive/My Drive/F922399F-D507-49F3-A515-25406A761219.jpeg\n",
            "/content/drive/My Drive/Student Interim Certificate for OLGR Course CHC177896.pdf\n",
            "/content/drive/My Drive/Communication Report2.docx\n",
            "/content/drive/My Drive/Scan 04 Jun 22 · 17·10·46.pdf\n",
            "/content/drive/My Drive/TFN_declaration_form_N3092 (1).pdf\n",
            "/content/drive/My Drive/TFN_declaration_form_N3092.pdf\n",
            "/content/drive/My Drive/TFN_declaration_form_N3092.gdoc\n",
            "/content/drive/My Drive/NSWPF-2022-403712 (1).pdf\n",
            "/content/drive/My Drive/NSWPF-2022-403712.pdf\n",
            "/content/drive/My Drive/html-and-css-fundamentals-final-file--1-.docx\n",
            "/content/drive/My Drive/Arjun _Kadariya_Resume_2.docx\n",
            "/content/drive/My Drive/Arjun_Kadariya_Resume_2 (1) (2).docx\n",
            "/content/drive/My Drive/SECONDARY EDUCATION EXAMINATION, GRADE-10.pdf\n",
            "/content/drive/My Drive/58670B61-F6D8-4235-B59E-F78D8B192500.png\n",
            "/content/drive/My Drive/6A42DF9A-6F7C-4262-B1BC-55FAAEB8382E.jpeg\n",
            "/content/drive/My Drive/Adobe Scan 11 Oct 2022 (2).pdf\n",
            "/content/drive/My Drive/CoE - Arjun KADARIYA.pdf\n",
            "/content/drive/My Drive/emailreceipt_20230212R2381068676.pdf\n",
            "/content/drive/My Drive/Tutorial 3 101.docx\n",
            "/content/drive/My Drive/Karan Sharma CV.docx\n",
            "/content/drive/My Drive/Home Affairs Fact Sheet-Student Visa Holders Condition 8202.pdf\n",
            "/content/drive/My Drive/Arjun_Kadariya_Resume_2 (1) (1).docx\n",
            "/content/drive/My Drive/Tutorial 10 cyber.docx\n",
            "/content/drive/My Drive/week 9 (1).docx\n",
            "/content/drive/My Drive/IMG_9447.HEIC\n",
            "/content/drive/My Drive/Kadariya-Arjun-CHC33015-9237833 (1).pdf\n",
            "/content/drive/My Drive/Kadariya-Arjun-CHC33015-9237833.pdf\n",
            "/content/drive/My Drive/11770058PC_KADARIYA.pdf\n",
            "/content/drive/My Drive/invoice (1).pdf\n",
            "/content/drive/My Drive/Biweekly 1 completed.docx\n",
            "/content/drive/My Drive/invoice.pdf\n",
            "/content/drive/My Drive/KADARIYA ARJUN MR 09JUL SYD (3).pdf\n",
            "/content/drive/My Drive/KADARIYA ARJUN MR 09JUL SYD (2).pdf\n",
            "/content/drive/My Drive/KADARIYA ARJUN MR 09JUL SYD (1).pdf\n",
            "/content/drive/My Drive/KADARIYA ARJUN MR 09JUL SYD.pdf\n",
            "/content/drive/My Drive/Certificate_133148094_1719940681.pdf\n",
            "/content/drive/My Drive/Passport_Arjun Kadariya.pdf\n",
            "/content/drive/My Drive/_Kadariya_Arjun_CDU_GMS_S22025_20250226091435.pdf\n",
            "/content/drive/My Drive/10118289_Kadariya_Arjun_SITCS3_Letter_of_Offer (2).pdf\n",
            "/content/drive/My Drive/Agent GTE Assessment Form.pdf\n",
            "/content/drive/My Drive/10118289_Kadariya_Arjun_SITCS3_Letter_of_Offer (1).pdf\n",
            "/content/drive/My Drive/10118289_Kadariya_Arjun_SITCS3_Letter_of_Offer.pdf\n",
            "/content/drive/My Drive/CoE Certificate (103DD9B24).pdf\n",
            "/content/drive/My Drive/Arjun_Kadariya_Resume_2 (1).docx\n",
            "/content/drive/My Drive/Arjun kadariya cover letter.docx\n",
            "/content/drive/My Drive/Arjun kadariya resume.docx\n",
            "/content/drive/My Drive/NSWPF-2025-741615 (1).pdf\n",
            "/content/drive/My Drive/NSWPF-2025-741615.pdf\n",
            "/content/drive/My Drive/Prithivi Raj Karki resume-1 (1).pdf\n",
            "/content/drive/My Drive/Prithivi Raj Karki resume-1.pdf\n",
            "/content/drive/My Drive/Prithivi Raj Karki resume-1 (1).gdoc\n",
            "/content/drive/My Drive/Prithivi Raj Karki resume-1.gdoc\n",
            "/content/drive/My Drive/YNAWorkplaceHealthSafetyDec_NT Arjun.pdf\n",
            "/content/drive/My Drive/Arjun Application.pdf\n",
            "/content/drive/My Drive/TFNDeclarationFormN3092_NT Arjun Final.pdf\n",
            "/content/drive/My Drive/YNAPayrollEmpDtls_ALL final.pdf\n",
            "/content/drive/My Drive/SuperFormNAT13080_NT final.pdf\n",
            "/content/drive/My Drive/Standard-Residential-Tenancy-Agreement-2020-2.pdf\n",
            "/content/drive/My Drive/IMMI Grant Notification.pdf\n",
            "/content/drive/My Drive/dataset2 (1).csv\n",
            "/content/drive/My Drive/dataset1 (1).csv\n",
            "/content/drive/My Drive/Untitled.ipynb\n"
          ]
        }
      ]
    },
    {
      "cell_type": "code",
      "execution_count": 56,
      "id": "abb31c14-9eab-4d63-baeb-be1fa7f63b17",
      "metadata": {
        "id": "abb31c14-9eab-4d63-baeb-be1fa7f63b17"
      },
      "outputs": [],
      "source": [
        "data2 = pd.read_csv(\"/content/drive/My Drive/dataset2 (1).csv\")"
      ]
    },
    {
      "cell_type": "code",
      "execution_count": 57,
      "id": "2c8bf15d-82bc-4f52-889d-970994382182",
      "metadata": {
        "id": "2c8bf15d-82bc-4f52-889d-970994382182",
        "colab": {
          "base_uri": "https://localhost:8080/",
          "height": 309
        },
        "outputId": "2b9fe87f-43c9-404b-f1b0-f763829a4a8f"
      },
      "outputs": [
        {
          "output_type": "execute_result",
          "data": {
            "text/plain": [
              "         start_time  bat_landing_to_food habit  rat_period_start  \\\n",
              "0  30/12/2017 18:37            16.000000   rat  30/12/2017 18:35   \n",
              "1  30/12/2017 19:51             0.074016  fast  30/12/2017 19:50   \n",
              "2  30/12/2017 19:51             4.000000  fast  30/12/2017 19:50   \n",
              "3  30/12/2017 19:52            10.000000   rat  30/12/2017 19:50   \n",
              "4  30/12/2017 19:54            15.000000   rat  30/12/2017 19:50   \n",
              "\n",
              "     rat_period_end  seconds_after_rat_arrival  risk  reward  month  \\\n",
              "0  30/12/2017 18:38                        108     1       0      0   \n",
              "1  30/12/2017 19:55                         17     0       1      0   \n",
              "2  30/12/2017 19:55                         41     0       1      0   \n",
              "3  30/12/2017 19:55                        111     1       0      0   \n",
              "4  30/12/2017 19:55                        194     1       0      0   \n",
              "\n",
              "        sunset_time  hours_after_sunset  season  \n",
              "0  30/12/2017 16:45            1.870833       0  \n",
              "1  30/12/2017 16:45            3.100833       0  \n",
              "2  30/12/2017 16:45            3.107500       0  \n",
              "3  30/12/2017 16:45            3.126944       0  \n",
              "4  30/12/2017 16:45            3.150000       0  "
            ],
            "text/html": [
              "\n",
              "  <div id=\"df-7d1dcc72-cd3d-4c8e-bd19-24acbcb995b9\" class=\"colab-df-container\">\n",
              "    <div>\n",
              "<style scoped>\n",
              "    .dataframe tbody tr th:only-of-type {\n",
              "        vertical-align: middle;\n",
              "    }\n",
              "\n",
              "    .dataframe tbody tr th {\n",
              "        vertical-align: top;\n",
              "    }\n",
              "\n",
              "    .dataframe thead th {\n",
              "        text-align: right;\n",
              "    }\n",
              "</style>\n",
              "<table border=\"1\" class=\"dataframe\">\n",
              "  <thead>\n",
              "    <tr style=\"text-align: right;\">\n",
              "      <th></th>\n",
              "      <th>start_time</th>\n",
              "      <th>bat_landing_to_food</th>\n",
              "      <th>habit</th>\n",
              "      <th>rat_period_start</th>\n",
              "      <th>rat_period_end</th>\n",
              "      <th>seconds_after_rat_arrival</th>\n",
              "      <th>risk</th>\n",
              "      <th>reward</th>\n",
              "      <th>month</th>\n",
              "      <th>sunset_time</th>\n",
              "      <th>hours_after_sunset</th>\n",
              "      <th>season</th>\n",
              "    </tr>\n",
              "  </thead>\n",
              "  <tbody>\n",
              "    <tr>\n",
              "      <th>0</th>\n",
              "      <td>30/12/2017 18:37</td>\n",
              "      <td>16.000000</td>\n",
              "      <td>rat</td>\n",
              "      <td>30/12/2017 18:35</td>\n",
              "      <td>30/12/2017 18:38</td>\n",
              "      <td>108</td>\n",
              "      <td>1</td>\n",
              "      <td>0</td>\n",
              "      <td>0</td>\n",
              "      <td>30/12/2017 16:45</td>\n",
              "      <td>1.870833</td>\n",
              "      <td>0</td>\n",
              "    </tr>\n",
              "    <tr>\n",
              "      <th>1</th>\n",
              "      <td>30/12/2017 19:51</td>\n",
              "      <td>0.074016</td>\n",
              "      <td>fast</td>\n",
              "      <td>30/12/2017 19:50</td>\n",
              "      <td>30/12/2017 19:55</td>\n",
              "      <td>17</td>\n",
              "      <td>0</td>\n",
              "      <td>1</td>\n",
              "      <td>0</td>\n",
              "      <td>30/12/2017 16:45</td>\n",
              "      <td>3.100833</td>\n",
              "      <td>0</td>\n",
              "    </tr>\n",
              "    <tr>\n",
              "      <th>2</th>\n",
              "      <td>30/12/2017 19:51</td>\n",
              "      <td>4.000000</td>\n",
              "      <td>fast</td>\n",
              "      <td>30/12/2017 19:50</td>\n",
              "      <td>30/12/2017 19:55</td>\n",
              "      <td>41</td>\n",
              "      <td>0</td>\n",
              "      <td>1</td>\n",
              "      <td>0</td>\n",
              "      <td>30/12/2017 16:45</td>\n",
              "      <td>3.107500</td>\n",
              "      <td>0</td>\n",
              "    </tr>\n",
              "    <tr>\n",
              "      <th>3</th>\n",
              "      <td>30/12/2017 19:52</td>\n",
              "      <td>10.000000</td>\n",
              "      <td>rat</td>\n",
              "      <td>30/12/2017 19:50</td>\n",
              "      <td>30/12/2017 19:55</td>\n",
              "      <td>111</td>\n",
              "      <td>1</td>\n",
              "      <td>0</td>\n",
              "      <td>0</td>\n",
              "      <td>30/12/2017 16:45</td>\n",
              "      <td>3.126944</td>\n",
              "      <td>0</td>\n",
              "    </tr>\n",
              "    <tr>\n",
              "      <th>4</th>\n",
              "      <td>30/12/2017 19:54</td>\n",
              "      <td>15.000000</td>\n",
              "      <td>rat</td>\n",
              "      <td>30/12/2017 19:50</td>\n",
              "      <td>30/12/2017 19:55</td>\n",
              "      <td>194</td>\n",
              "      <td>1</td>\n",
              "      <td>0</td>\n",
              "      <td>0</td>\n",
              "      <td>30/12/2017 16:45</td>\n",
              "      <td>3.150000</td>\n",
              "      <td>0</td>\n",
              "    </tr>\n",
              "  </tbody>\n",
              "</table>\n",
              "</div>\n",
              "    <div class=\"colab-df-buttons\">\n",
              "\n",
              "  <div class=\"colab-df-container\">\n",
              "    <button class=\"colab-df-convert\" onclick=\"convertToInteractive('df-7d1dcc72-cd3d-4c8e-bd19-24acbcb995b9')\"\n",
              "            title=\"Convert this dataframe to an interactive table.\"\n",
              "            style=\"display:none;\">\n",
              "\n",
              "  <svg xmlns=\"http://www.w3.org/2000/svg\" height=\"24px\" viewBox=\"0 -960 960 960\">\n",
              "    <path d=\"M120-120v-720h720v720H120Zm60-500h600v-160H180v160Zm220 220h160v-160H400v160Zm0 220h160v-160H400v160ZM180-400h160v-160H180v160Zm440 0h160v-160H620v160ZM180-180h160v-160H180v160Zm440 0h160v-160H620v160Z\"/>\n",
              "  </svg>\n",
              "    </button>\n",
              "\n",
              "  <style>\n",
              "    .colab-df-container {\n",
              "      display:flex;\n",
              "      gap: 12px;\n",
              "    }\n",
              "\n",
              "    .colab-df-convert {\n",
              "      background-color: #E8F0FE;\n",
              "      border: none;\n",
              "      border-radius: 50%;\n",
              "      cursor: pointer;\n",
              "      display: none;\n",
              "      fill: #1967D2;\n",
              "      height: 32px;\n",
              "      padding: 0 0 0 0;\n",
              "      width: 32px;\n",
              "    }\n",
              "\n",
              "    .colab-df-convert:hover {\n",
              "      background-color: #E2EBFA;\n",
              "      box-shadow: 0px 1px 2px rgba(60, 64, 67, 0.3), 0px 1px 3px 1px rgba(60, 64, 67, 0.15);\n",
              "      fill: #174EA6;\n",
              "    }\n",
              "\n",
              "    .colab-df-buttons div {\n",
              "      margin-bottom: 4px;\n",
              "    }\n",
              "\n",
              "    [theme=dark] .colab-df-convert {\n",
              "      background-color: #3B4455;\n",
              "      fill: #D2E3FC;\n",
              "    }\n",
              "\n",
              "    [theme=dark] .colab-df-convert:hover {\n",
              "      background-color: #434B5C;\n",
              "      box-shadow: 0px 1px 3px 1px rgba(0, 0, 0, 0.15);\n",
              "      filter: drop-shadow(0px 1px 2px rgba(0, 0, 0, 0.3));\n",
              "      fill: #FFFFFF;\n",
              "    }\n",
              "  </style>\n",
              "\n",
              "    <script>\n",
              "      const buttonEl =\n",
              "        document.querySelector('#df-7d1dcc72-cd3d-4c8e-bd19-24acbcb995b9 button.colab-df-convert');\n",
              "      buttonEl.style.display =\n",
              "        google.colab.kernel.accessAllowed ? 'block' : 'none';\n",
              "\n",
              "      async function convertToInteractive(key) {\n",
              "        const element = document.querySelector('#df-7d1dcc72-cd3d-4c8e-bd19-24acbcb995b9');\n",
              "        const dataTable =\n",
              "          await google.colab.kernel.invokeFunction('convertToInteractive',\n",
              "                                                    [key], {});\n",
              "        if (!dataTable) return;\n",
              "\n",
              "        const docLinkHtml = 'Like what you see? Visit the ' +\n",
              "          '<a target=\"_blank\" href=https://colab.research.google.com/notebooks/data_table.ipynb>data table notebook</a>'\n",
              "          + ' to learn more about interactive tables.';\n",
              "        element.innerHTML = '';\n",
              "        dataTable['output_type'] = 'display_data';\n",
              "        await google.colab.output.renderOutput(dataTable, element);\n",
              "        const docLink = document.createElement('div');\n",
              "        docLink.innerHTML = docLinkHtml;\n",
              "        element.appendChild(docLink);\n",
              "      }\n",
              "    </script>\n",
              "  </div>\n",
              "\n",
              "\n",
              "    <div id=\"df-9a1dbb8a-9ca1-436c-afb9-570f3ba992ca\">\n",
              "      <button class=\"colab-df-quickchart\" onclick=\"quickchart('df-9a1dbb8a-9ca1-436c-afb9-570f3ba992ca')\"\n",
              "                title=\"Suggest charts\"\n",
              "                style=\"display:none;\">\n",
              "\n",
              "<svg xmlns=\"http://www.w3.org/2000/svg\" height=\"24px\"viewBox=\"0 0 24 24\"\n",
              "     width=\"24px\">\n",
              "    <g>\n",
              "        <path d=\"M19 3H5c-1.1 0-2 .9-2 2v14c0 1.1.9 2 2 2h14c1.1 0 2-.9 2-2V5c0-1.1-.9-2-2-2zM9 17H7v-7h2v7zm4 0h-2V7h2v10zm4 0h-2v-4h2v4z\"/>\n",
              "    </g>\n",
              "</svg>\n",
              "      </button>\n",
              "\n",
              "<style>\n",
              "  .colab-df-quickchart {\n",
              "      --bg-color: #E8F0FE;\n",
              "      --fill-color: #1967D2;\n",
              "      --hover-bg-color: #E2EBFA;\n",
              "      --hover-fill-color: #174EA6;\n",
              "      --disabled-fill-color: #AAA;\n",
              "      --disabled-bg-color: #DDD;\n",
              "  }\n",
              "\n",
              "  [theme=dark] .colab-df-quickchart {\n",
              "      --bg-color: #3B4455;\n",
              "      --fill-color: #D2E3FC;\n",
              "      --hover-bg-color: #434B5C;\n",
              "      --hover-fill-color: #FFFFFF;\n",
              "      --disabled-bg-color: #3B4455;\n",
              "      --disabled-fill-color: #666;\n",
              "  }\n",
              "\n",
              "  .colab-df-quickchart {\n",
              "    background-color: var(--bg-color);\n",
              "    border: none;\n",
              "    border-radius: 50%;\n",
              "    cursor: pointer;\n",
              "    display: none;\n",
              "    fill: var(--fill-color);\n",
              "    height: 32px;\n",
              "    padding: 0;\n",
              "    width: 32px;\n",
              "  }\n",
              "\n",
              "  .colab-df-quickchart:hover {\n",
              "    background-color: var(--hover-bg-color);\n",
              "    box-shadow: 0 1px 2px rgba(60, 64, 67, 0.3), 0 1px 3px 1px rgba(60, 64, 67, 0.15);\n",
              "    fill: var(--button-hover-fill-color);\n",
              "  }\n",
              "\n",
              "  .colab-df-quickchart-complete:disabled,\n",
              "  .colab-df-quickchart-complete:disabled:hover {\n",
              "    background-color: var(--disabled-bg-color);\n",
              "    fill: var(--disabled-fill-color);\n",
              "    box-shadow: none;\n",
              "  }\n",
              "\n",
              "  .colab-df-spinner {\n",
              "    border: 2px solid var(--fill-color);\n",
              "    border-color: transparent;\n",
              "    border-bottom-color: var(--fill-color);\n",
              "    animation:\n",
              "      spin 1s steps(1) infinite;\n",
              "  }\n",
              "\n",
              "  @keyframes spin {\n",
              "    0% {\n",
              "      border-color: transparent;\n",
              "      border-bottom-color: var(--fill-color);\n",
              "      border-left-color: var(--fill-color);\n",
              "    }\n",
              "    20% {\n",
              "      border-color: transparent;\n",
              "      border-left-color: var(--fill-color);\n",
              "      border-top-color: var(--fill-color);\n",
              "    }\n",
              "    30% {\n",
              "      border-color: transparent;\n",
              "      border-left-color: var(--fill-color);\n",
              "      border-top-color: var(--fill-color);\n",
              "      border-right-color: var(--fill-color);\n",
              "    }\n",
              "    40% {\n",
              "      border-color: transparent;\n",
              "      border-right-color: var(--fill-color);\n",
              "      border-top-color: var(--fill-color);\n",
              "    }\n",
              "    60% {\n",
              "      border-color: transparent;\n",
              "      border-right-color: var(--fill-color);\n",
              "    }\n",
              "    80% {\n",
              "      border-color: transparent;\n",
              "      border-right-color: var(--fill-color);\n",
              "      border-bottom-color: var(--fill-color);\n",
              "    }\n",
              "    90% {\n",
              "      border-color: transparent;\n",
              "      border-bottom-color: var(--fill-color);\n",
              "    }\n",
              "  }\n",
              "</style>\n",
              "\n",
              "      <script>\n",
              "        async function quickchart(key) {\n",
              "          const quickchartButtonEl =\n",
              "            document.querySelector('#' + key + ' button');\n",
              "          quickchartButtonEl.disabled = true;  // To prevent multiple clicks.\n",
              "          quickchartButtonEl.classList.add('colab-df-spinner');\n",
              "          try {\n",
              "            const charts = await google.colab.kernel.invokeFunction(\n",
              "                'suggestCharts', [key], {});\n",
              "          } catch (error) {\n",
              "            console.error('Error during call to suggestCharts:', error);\n",
              "          }\n",
              "          quickchartButtonEl.classList.remove('colab-df-spinner');\n",
              "          quickchartButtonEl.classList.add('colab-df-quickchart-complete');\n",
              "        }\n",
              "        (() => {\n",
              "          let quickchartButtonEl =\n",
              "            document.querySelector('#df-9a1dbb8a-9ca1-436c-afb9-570f3ba992ca button');\n",
              "          quickchartButtonEl.style.display =\n",
              "            google.colab.kernel.accessAllowed ? 'block' : 'none';\n",
              "        })();\n",
              "      </script>\n",
              "    </div>\n",
              "\n",
              "    </div>\n",
              "  </div>\n"
            ],
            "application/vnd.google.colaboratory.intrinsic+json": {
              "type": "dataframe",
              "variable_name": "data1",
              "summary": "{\n  \"name\": \"data1\",\n  \"rows\": 907,\n  \"fields\": [\n    {\n      \"column\": \"start_time\",\n      \"properties\": {\n        \"dtype\": \"object\",\n        \"num_unique_values\": 628,\n        \"samples\": [\n          \"6/05/2018 5:08\",\n          \"5/05/2018 0:43\",\n          \"2/05/2018 19:52\"\n        ],\n        \"semantic_type\": \"\",\n        \"description\": \"\"\n      }\n    },\n    {\n      \"column\": \"bat_landing_to_food\",\n      \"properties\": {\n        \"dtype\": \"number\",\n        \"std\": 27.644409680199573,\n        \"min\": 0.010238211,\n        \"max\": 443.0,\n        \"num_unique_values\": 204,\n        \"samples\": [\n          31.0,\n          5.0,\n          0.087634798\n        ],\n        \"semantic_type\": \"\",\n        \"description\": \"\"\n      }\n    },\n    {\n      \"column\": \"habit\",\n      \"properties\": {\n        \"dtype\": \"category\",\n        \"num_unique_values\": 81,\n        \"samples\": [\n          \"bat_and_pick\",\n          \"rat\",\n          \"373.0,80.0,504.0,148.0; 274.6,110.7,382.4,267.3\"\n        ],\n        \"semantic_type\": \"\",\n        \"description\": \"\"\n      }\n    },\n    {\n      \"column\": \"rat_period_start\",\n      \"properties\": {\n        \"dtype\": \"object\",\n        \"num_unique_values\": 268,\n        \"samples\": [\n          \"29/04/2018 3:33\",\n          \"21/05/2018 2:49\",\n          \"7/02/2018 18:29\"\n        ],\n        \"semantic_type\": \"\",\n        \"description\": \"\"\n      }\n    },\n    {\n      \"column\": \"rat_period_end\",\n      \"properties\": {\n        \"dtype\": \"object\",\n        \"num_unique_values\": 268,\n        \"samples\": [\n          \"29/04/2018 3:48\",\n          \"21/05/2018 2:57\",\n          \"7/02/2018 18:44\"\n        ],\n        \"semantic_type\": \"\",\n        \"description\": \"\"\n      }\n    },\n    {\n      \"column\": \"seconds_after_rat_arrival\",\n      \"properties\": {\n        \"dtype\": \"number\",\n        \"std\": 240,\n        \"min\": 0,\n        \"max\": 949,\n        \"num_unique_values\": 501,\n        \"samples\": [\n          214,\n          99,\n          520\n        ],\n        \"semantic_type\": \"\",\n        \"description\": \"\"\n      }\n    },\n    {\n      \"column\": \"risk\",\n      \"properties\": {\n        \"dtype\": \"number\",\n        \"std\": 0,\n        \"min\": 0,\n        \"max\": 1,\n        \"num_unique_values\": 2,\n        \"samples\": [\n          0,\n          1\n        ],\n        \"semantic_type\": \"\",\n        \"description\": \"\"\n      }\n    },\n    {\n      \"column\": \"reward\",\n      \"properties\": {\n        \"dtype\": \"number\",\n        \"std\": 0,\n        \"min\": 0,\n        \"max\": 1,\n        \"num_unique_values\": 2,\n        \"samples\": [\n          1,\n          0\n        ],\n        \"semantic_type\": \"\",\n        \"description\": \"\"\n      }\n    },\n    {\n      \"column\": \"month\",\n      \"properties\": {\n        \"dtype\": \"number\",\n        \"std\": 1,\n        \"min\": 0,\n        \"max\": 5,\n        \"num_unique_values\": 6,\n        \"samples\": [\n          0,\n          1\n        ],\n        \"semantic_type\": \"\",\n        \"description\": \"\"\n      }\n    },\n    {\n      \"column\": \"sunset_time\",\n      \"properties\": {\n        \"dtype\": \"object\",\n        \"num_unique_values\": 65,\n        \"samples\": [\n          \"9/05/2018 19:26\",\n          \"13/05/2018 19:29\"\n        ],\n        \"semantic_type\": \"\",\n        \"description\": \"\"\n      }\n    },\n    {\n      \"column\": \"hours_after_sunset\",\n      \"properties\": {\n        \"dtype\": \"number\",\n        \"std\": 2.414146393146927,\n        \"min\": -0.261666667,\n        \"max\": 12.09194444,\n        \"num_unique_values\": 895,\n        \"samples\": [\n          7.008055556,\n          4.036944444\n        ],\n        \"semantic_type\": \"\",\n        \"description\": \"\"\n      }\n    },\n    {\n      \"column\": \"season\",\n      \"properties\": {\n        \"dtype\": \"number\",\n        \"std\": 0,\n        \"min\": 0,\n        \"max\": 1,\n        \"num_unique_values\": 2,\n        \"samples\": [\n          1,\n          0\n        ],\n        \"semantic_type\": \"\",\n        \"description\": \"\"\n      }\n    }\n  ]\n}"
            }
          },
          "metadata": {},
          "execution_count": 57
        }
      ],
      "source": [
        "data1.head()"
      ]
    },
    {
      "cell_type": "code",
      "execution_count": 58,
      "id": "e237a018-28ae-4c2d-98a2-bc7927c6596c",
      "metadata": {
        "id": "e237a018-28ae-4c2d-98a2-bc7927c6596c",
        "colab": {
          "base_uri": "https://localhost:8080/",
          "height": 204
        },
        "outputId": "225dce60-c958-4722-9b34-bbe6012ad8cf"
      },
      "outputs": [
        {
          "output_type": "execute_result",
          "data": {
            "text/plain": [
              "               time  month  hours_after_sunset  bat_landing_number  \\\n",
              "0  26/12/2017 16:13      0                -0.5                  20   \n",
              "1  26/12/2017 16:43      0                 0.0                  28   \n",
              "2  26/12/2017 17:13      0                 0.5                  25   \n",
              "3  26/12/2017 17:43      0                 1.0                  71   \n",
              "4  26/12/2017 18:13      0                 1.5                  44   \n",
              "\n",
              "   food_availability  rat_minutes  rat_arrival_number  \n",
              "0           4.000000          0.0                   0  \n",
              "1           4.000000          0.0                   0  \n",
              "2           4.000000          0.0                   0  \n",
              "3           4.000000          0.0                   0  \n",
              "4           3.753857          0.0                   0  "
            ],
            "text/html": [
              "\n",
              "  <div id=\"df-f7d88298-f771-464b-afd6-f6273cfe4965\" class=\"colab-df-container\">\n",
              "    <div>\n",
              "<style scoped>\n",
              "    .dataframe tbody tr th:only-of-type {\n",
              "        vertical-align: middle;\n",
              "    }\n",
              "\n",
              "    .dataframe tbody tr th {\n",
              "        vertical-align: top;\n",
              "    }\n",
              "\n",
              "    .dataframe thead th {\n",
              "        text-align: right;\n",
              "    }\n",
              "</style>\n",
              "<table border=\"1\" class=\"dataframe\">\n",
              "  <thead>\n",
              "    <tr style=\"text-align: right;\">\n",
              "      <th></th>\n",
              "      <th>time</th>\n",
              "      <th>month</th>\n",
              "      <th>hours_after_sunset</th>\n",
              "      <th>bat_landing_number</th>\n",
              "      <th>food_availability</th>\n",
              "      <th>rat_minutes</th>\n",
              "      <th>rat_arrival_number</th>\n",
              "    </tr>\n",
              "  </thead>\n",
              "  <tbody>\n",
              "    <tr>\n",
              "      <th>0</th>\n",
              "      <td>26/12/2017 16:13</td>\n",
              "      <td>0</td>\n",
              "      <td>-0.5</td>\n",
              "      <td>20</td>\n",
              "      <td>4.000000</td>\n",
              "      <td>0.0</td>\n",
              "      <td>0</td>\n",
              "    </tr>\n",
              "    <tr>\n",
              "      <th>1</th>\n",
              "      <td>26/12/2017 16:43</td>\n",
              "      <td>0</td>\n",
              "      <td>0.0</td>\n",
              "      <td>28</td>\n",
              "      <td>4.000000</td>\n",
              "      <td>0.0</td>\n",
              "      <td>0</td>\n",
              "    </tr>\n",
              "    <tr>\n",
              "      <th>2</th>\n",
              "      <td>26/12/2017 17:13</td>\n",
              "      <td>0</td>\n",
              "      <td>0.5</td>\n",
              "      <td>25</td>\n",
              "      <td>4.000000</td>\n",
              "      <td>0.0</td>\n",
              "      <td>0</td>\n",
              "    </tr>\n",
              "    <tr>\n",
              "      <th>3</th>\n",
              "      <td>26/12/2017 17:43</td>\n",
              "      <td>0</td>\n",
              "      <td>1.0</td>\n",
              "      <td>71</td>\n",
              "      <td>4.000000</td>\n",
              "      <td>0.0</td>\n",
              "      <td>0</td>\n",
              "    </tr>\n",
              "    <tr>\n",
              "      <th>4</th>\n",
              "      <td>26/12/2017 18:13</td>\n",
              "      <td>0</td>\n",
              "      <td>1.5</td>\n",
              "      <td>44</td>\n",
              "      <td>3.753857</td>\n",
              "      <td>0.0</td>\n",
              "      <td>0</td>\n",
              "    </tr>\n",
              "  </tbody>\n",
              "</table>\n",
              "</div>\n",
              "    <div class=\"colab-df-buttons\">\n",
              "\n",
              "  <div class=\"colab-df-container\">\n",
              "    <button class=\"colab-df-convert\" onclick=\"convertToInteractive('df-f7d88298-f771-464b-afd6-f6273cfe4965')\"\n",
              "            title=\"Convert this dataframe to an interactive table.\"\n",
              "            style=\"display:none;\">\n",
              "\n",
              "  <svg xmlns=\"http://www.w3.org/2000/svg\" height=\"24px\" viewBox=\"0 -960 960 960\">\n",
              "    <path d=\"M120-120v-720h720v720H120Zm60-500h600v-160H180v160Zm220 220h160v-160H400v160Zm0 220h160v-160H400v160ZM180-400h160v-160H180v160Zm440 0h160v-160H620v160ZM180-180h160v-160H180v160Zm440 0h160v-160H620v160Z\"/>\n",
              "  </svg>\n",
              "    </button>\n",
              "\n",
              "  <style>\n",
              "    .colab-df-container {\n",
              "      display:flex;\n",
              "      gap: 12px;\n",
              "    }\n",
              "\n",
              "    .colab-df-convert {\n",
              "      background-color: #E8F0FE;\n",
              "      border: none;\n",
              "      border-radius: 50%;\n",
              "      cursor: pointer;\n",
              "      display: none;\n",
              "      fill: #1967D2;\n",
              "      height: 32px;\n",
              "      padding: 0 0 0 0;\n",
              "      width: 32px;\n",
              "    }\n",
              "\n",
              "    .colab-df-convert:hover {\n",
              "      background-color: #E2EBFA;\n",
              "      box-shadow: 0px 1px 2px rgba(60, 64, 67, 0.3), 0px 1px 3px 1px rgba(60, 64, 67, 0.15);\n",
              "      fill: #174EA6;\n",
              "    }\n",
              "\n",
              "    .colab-df-buttons div {\n",
              "      margin-bottom: 4px;\n",
              "    }\n",
              "\n",
              "    [theme=dark] .colab-df-convert {\n",
              "      background-color: #3B4455;\n",
              "      fill: #D2E3FC;\n",
              "    }\n",
              "\n",
              "    [theme=dark] .colab-df-convert:hover {\n",
              "      background-color: #434B5C;\n",
              "      box-shadow: 0px 1px 3px 1px rgba(0, 0, 0, 0.15);\n",
              "      filter: drop-shadow(0px 1px 2px rgba(0, 0, 0, 0.3));\n",
              "      fill: #FFFFFF;\n",
              "    }\n",
              "  </style>\n",
              "\n",
              "    <script>\n",
              "      const buttonEl =\n",
              "        document.querySelector('#df-f7d88298-f771-464b-afd6-f6273cfe4965 button.colab-df-convert');\n",
              "      buttonEl.style.display =\n",
              "        google.colab.kernel.accessAllowed ? 'block' : 'none';\n",
              "\n",
              "      async function convertToInteractive(key) {\n",
              "        const element = document.querySelector('#df-f7d88298-f771-464b-afd6-f6273cfe4965');\n",
              "        const dataTable =\n",
              "          await google.colab.kernel.invokeFunction('convertToInteractive',\n",
              "                                                    [key], {});\n",
              "        if (!dataTable) return;\n",
              "\n",
              "        const docLinkHtml = 'Like what you see? Visit the ' +\n",
              "          '<a target=\"_blank\" href=https://colab.research.google.com/notebooks/data_table.ipynb>data table notebook</a>'\n",
              "          + ' to learn more about interactive tables.';\n",
              "        element.innerHTML = '';\n",
              "        dataTable['output_type'] = 'display_data';\n",
              "        await google.colab.output.renderOutput(dataTable, element);\n",
              "        const docLink = document.createElement('div');\n",
              "        docLink.innerHTML = docLinkHtml;\n",
              "        element.appendChild(docLink);\n",
              "      }\n",
              "    </script>\n",
              "  </div>\n",
              "\n",
              "\n",
              "    <div id=\"df-312ff2c3-740b-44d7-b9e4-bd8772493875\">\n",
              "      <button class=\"colab-df-quickchart\" onclick=\"quickchart('df-312ff2c3-740b-44d7-b9e4-bd8772493875')\"\n",
              "                title=\"Suggest charts\"\n",
              "                style=\"display:none;\">\n",
              "\n",
              "<svg xmlns=\"http://www.w3.org/2000/svg\" height=\"24px\"viewBox=\"0 0 24 24\"\n",
              "     width=\"24px\">\n",
              "    <g>\n",
              "        <path d=\"M19 3H5c-1.1 0-2 .9-2 2v14c0 1.1.9 2 2 2h14c1.1 0 2-.9 2-2V5c0-1.1-.9-2-2-2zM9 17H7v-7h2v7zm4 0h-2V7h2v10zm4 0h-2v-4h2v4z\"/>\n",
              "    </g>\n",
              "</svg>\n",
              "      </button>\n",
              "\n",
              "<style>\n",
              "  .colab-df-quickchart {\n",
              "      --bg-color: #E8F0FE;\n",
              "      --fill-color: #1967D2;\n",
              "      --hover-bg-color: #E2EBFA;\n",
              "      --hover-fill-color: #174EA6;\n",
              "      --disabled-fill-color: #AAA;\n",
              "      --disabled-bg-color: #DDD;\n",
              "  }\n",
              "\n",
              "  [theme=dark] .colab-df-quickchart {\n",
              "      --bg-color: #3B4455;\n",
              "      --fill-color: #D2E3FC;\n",
              "      --hover-bg-color: #434B5C;\n",
              "      --hover-fill-color: #FFFFFF;\n",
              "      --disabled-bg-color: #3B4455;\n",
              "      --disabled-fill-color: #666;\n",
              "  }\n",
              "\n",
              "  .colab-df-quickchart {\n",
              "    background-color: var(--bg-color);\n",
              "    border: none;\n",
              "    border-radius: 50%;\n",
              "    cursor: pointer;\n",
              "    display: none;\n",
              "    fill: var(--fill-color);\n",
              "    height: 32px;\n",
              "    padding: 0;\n",
              "    width: 32px;\n",
              "  }\n",
              "\n",
              "  .colab-df-quickchart:hover {\n",
              "    background-color: var(--hover-bg-color);\n",
              "    box-shadow: 0 1px 2px rgba(60, 64, 67, 0.3), 0 1px 3px 1px rgba(60, 64, 67, 0.15);\n",
              "    fill: var(--button-hover-fill-color);\n",
              "  }\n",
              "\n",
              "  .colab-df-quickchart-complete:disabled,\n",
              "  .colab-df-quickchart-complete:disabled:hover {\n",
              "    background-color: var(--disabled-bg-color);\n",
              "    fill: var(--disabled-fill-color);\n",
              "    box-shadow: none;\n",
              "  }\n",
              "\n",
              "  .colab-df-spinner {\n",
              "    border: 2px solid var(--fill-color);\n",
              "    border-color: transparent;\n",
              "    border-bottom-color: var(--fill-color);\n",
              "    animation:\n",
              "      spin 1s steps(1) infinite;\n",
              "  }\n",
              "\n",
              "  @keyframes spin {\n",
              "    0% {\n",
              "      border-color: transparent;\n",
              "      border-bottom-color: var(--fill-color);\n",
              "      border-left-color: var(--fill-color);\n",
              "    }\n",
              "    20% {\n",
              "      border-color: transparent;\n",
              "      border-left-color: var(--fill-color);\n",
              "      border-top-color: var(--fill-color);\n",
              "    }\n",
              "    30% {\n",
              "      border-color: transparent;\n",
              "      border-left-color: var(--fill-color);\n",
              "      border-top-color: var(--fill-color);\n",
              "      border-right-color: var(--fill-color);\n",
              "    }\n",
              "    40% {\n",
              "      border-color: transparent;\n",
              "      border-right-color: var(--fill-color);\n",
              "      border-top-color: var(--fill-color);\n",
              "    }\n",
              "    60% {\n",
              "      border-color: transparent;\n",
              "      border-right-color: var(--fill-color);\n",
              "    }\n",
              "    80% {\n",
              "      border-color: transparent;\n",
              "      border-right-color: var(--fill-color);\n",
              "      border-bottom-color: var(--fill-color);\n",
              "    }\n",
              "    90% {\n",
              "      border-color: transparent;\n",
              "      border-bottom-color: var(--fill-color);\n",
              "    }\n",
              "  }\n",
              "</style>\n",
              "\n",
              "      <script>\n",
              "        async function quickchart(key) {\n",
              "          const quickchartButtonEl =\n",
              "            document.querySelector('#' + key + ' button');\n",
              "          quickchartButtonEl.disabled = true;  // To prevent multiple clicks.\n",
              "          quickchartButtonEl.classList.add('colab-df-spinner');\n",
              "          try {\n",
              "            const charts = await google.colab.kernel.invokeFunction(\n",
              "                'suggestCharts', [key], {});\n",
              "          } catch (error) {\n",
              "            console.error('Error during call to suggestCharts:', error);\n",
              "          }\n",
              "          quickchartButtonEl.classList.remove('colab-df-spinner');\n",
              "          quickchartButtonEl.classList.add('colab-df-quickchart-complete');\n",
              "        }\n",
              "        (() => {\n",
              "          let quickchartButtonEl =\n",
              "            document.querySelector('#df-312ff2c3-740b-44d7-b9e4-bd8772493875 button');\n",
              "          quickchartButtonEl.style.display =\n",
              "            google.colab.kernel.accessAllowed ? 'block' : 'none';\n",
              "        })();\n",
              "      </script>\n",
              "    </div>\n",
              "\n",
              "    </div>\n",
              "  </div>\n"
            ],
            "application/vnd.google.colaboratory.intrinsic+json": {
              "type": "dataframe",
              "variable_name": "data2",
              "summary": "{\n  \"name\": \"data2\",\n  \"rows\": 2123,\n  \"fields\": [\n    {\n      \"column\": \"time\",\n      \"properties\": {\n        \"dtype\": \"object\",\n        \"num_unique_values\": 2123,\n        \"samples\": [\n          \"18/02/2018 0:58\",\n          \"14/05/2018 7:59\",\n          \"27/04/2018 21:48\"\n        ],\n        \"semantic_type\": \"\",\n        \"description\": \"\"\n      }\n    },\n    {\n      \"column\": \"month\",\n      \"properties\": {\n        \"dtype\": \"number\",\n        \"std\": 1,\n        \"min\": 0,\n        \"max\": 6,\n        \"num_unique_values\": 7,\n        \"samples\": [\n          0,\n          1,\n          5\n        ],\n        \"semantic_type\": \"\",\n        \"description\": \"\"\n      }\n    },\n    {\n      \"column\": \"hours_after_sunset\",\n      \"properties\": {\n        \"dtype\": \"number\",\n        \"std\": 4.076187850626769,\n        \"min\": -2.0,\n        \"max\": 13.5,\n        \"num_unique_values\": 32,\n        \"samples\": [\n          12.5,\n          7.0,\n          11.5\n        ],\n        \"semantic_type\": \"\",\n        \"description\": \"\"\n      }\n    },\n    {\n      \"column\": \"bat_landing_number\",\n      \"properties\": {\n        \"dtype\": \"number\",\n        \"std\": 25,\n        \"min\": 0,\n        \"max\": 178,\n        \"num_unique_values\": 119,\n        \"samples\": [\n          59,\n          76,\n          44\n        ],\n        \"semantic_type\": \"\",\n        \"description\": \"\"\n      }\n    },\n    {\n      \"column\": \"food_availability\",\n      \"properties\": {\n        \"dtype\": \"number\",\n        \"std\": 1.2183527609819746,\n        \"min\": 0.0,\n        \"max\": 4.0,\n        \"num_unique_values\": 600,\n        \"samples\": [\n          1.863978495,\n          2.102150538,\n          2.217741935\n        ],\n        \"semantic_type\": \"\",\n        \"description\": \"\"\n      }\n    },\n    {\n      \"column\": \"rat_minutes\",\n      \"properties\": {\n        \"dtype\": \"number\",\n        \"std\": 6.79339735687167,\n        \"min\": 0.0,\n        \"max\": 120.0,\n        \"num_unique_values\": 401,\n        \"samples\": [\n          16.41666667,\n          8.916666667,\n          1.15\n        ],\n        \"semantic_type\": \"\",\n        \"description\": \"\"\n      }\n    },\n    {\n      \"column\": \"rat_arrival_number\",\n      \"properties\": {\n        \"dtype\": \"number\",\n        \"std\": 1,\n        \"min\": 0,\n        \"max\": 17,\n        \"num_unique_values\": 10,\n        \"samples\": [\n          7,\n          2,\n          8\n        ],\n        \"semantic_type\": \"\",\n        \"description\": \"\"\n      }\n    }\n  ]\n}"
            }
          },
          "metadata": {},
          "execution_count": 58
        }
      ],
      "source": [
        "data2.head()"
      ]
    },
    {
      "cell_type": "markdown",
      "id": "d3e8ffea-0203-4977-9511-347ba7728e32",
      "metadata": {
        "id": "d3e8ffea-0203-4977-9511-347ba7728e32"
      },
      "source": [
        "data1 preprocessing phase\n"
      ]
    },
    {
      "cell_type": "code",
      "execution_count": 59,
      "id": "67f09854-8a67-429f-9208-9357710922be",
      "metadata": {
        "id": "67f09854-8a67-429f-9208-9357710922be",
        "colab": {
          "base_uri": "https://localhost:8080/"
        },
        "outputId": "98a194ad-e0ae-48c2-fca7-98e7ceb4de13"
      },
      "outputs": [
        {
          "output_type": "stream",
          "name": "stdout",
          "text": [
            "<class 'pandas.core.frame.DataFrame'>\n",
            "RangeIndex: 907 entries, 0 to 906\n",
            "Data columns (total 12 columns):\n",
            " #   Column                     Non-Null Count  Dtype  \n",
            "---  ------                     --------------  -----  \n",
            " 0   start_time                 907 non-null    object \n",
            " 1   bat_landing_to_food        907 non-null    float64\n",
            " 2   habit                      866 non-null    object \n",
            " 3   rat_period_start           907 non-null    object \n",
            " 4   rat_period_end             907 non-null    object \n",
            " 5   seconds_after_rat_arrival  907 non-null    int64  \n",
            " 6   risk                       907 non-null    int64  \n",
            " 7   reward                     907 non-null    int64  \n",
            " 8   month                      907 non-null    int64  \n",
            " 9   sunset_time                907 non-null    object \n",
            " 10  hours_after_sunset         907 non-null    float64\n",
            " 11  season                     907 non-null    int64  \n",
            "dtypes: float64(2), int64(5), object(5)\n",
            "memory usage: 85.2+ KB\n"
          ]
        }
      ],
      "source": [
        "data1.info()"
      ]
    },
    {
      "cell_type": "code",
      "execution_count": 60,
      "id": "1429ae9c-6b3e-4d54-9464-9aa6c79c8801",
      "metadata": {
        "id": "1429ae9c-6b3e-4d54-9464-9aa6c79c8801",
        "colab": {
          "base_uri": "https://localhost:8080/"
        },
        "outputId": "d7e5f404-fabb-433f-e446-454a83d806b9"
      },
      "outputs": [
        {
          "output_type": "stream",
          "name": "stdout",
          "text": [
            "<class 'pandas.core.frame.DataFrame'>\n",
            "RangeIndex: 2123 entries, 0 to 2122\n",
            "Data columns (total 7 columns):\n",
            " #   Column              Non-Null Count  Dtype  \n",
            "---  ------              --------------  -----  \n",
            " 0   time                2123 non-null   object \n",
            " 1   month               2123 non-null   int64  \n",
            " 2   hours_after_sunset  2123 non-null   float64\n",
            " 3   bat_landing_number  2123 non-null   int64  \n",
            " 4   food_availability   2123 non-null   float64\n",
            " 5   rat_minutes         2123 non-null   float64\n",
            " 6   rat_arrival_number  2123 non-null   int64  \n",
            "dtypes: float64(3), int64(3), object(1)\n",
            "memory usage: 116.2+ KB\n"
          ]
        }
      ],
      "source": [
        "data2.info()"
      ]
    },
    {
      "cell_type": "code",
      "execution_count": 61,
      "id": "e8c5d88d-7004-4406-9dd8-da4a17b2b861",
      "metadata": {
        "id": "e8c5d88d-7004-4406-9dd8-da4a17b2b861",
        "colab": {
          "base_uri": "https://localhost:8080/",
          "height": 300
        },
        "outputId": "215a063e-253e-4029-87ce-b874b035792d"
      },
      "outputs": [
        {
          "output_type": "execute_result",
          "data": {
            "text/plain": [
              "time                  0\n",
              "month                 0\n",
              "hours_after_sunset    0\n",
              "bat_landing_number    0\n",
              "food_availability     0\n",
              "rat_minutes           0\n",
              "rat_arrival_number    0\n",
              "dtype: int64"
            ],
            "text/html": [
              "<div>\n",
              "<style scoped>\n",
              "    .dataframe tbody tr th:only-of-type {\n",
              "        vertical-align: middle;\n",
              "    }\n",
              "\n",
              "    .dataframe tbody tr th {\n",
              "        vertical-align: top;\n",
              "    }\n",
              "\n",
              "    .dataframe thead th {\n",
              "        text-align: right;\n",
              "    }\n",
              "</style>\n",
              "<table border=\"1\" class=\"dataframe\">\n",
              "  <thead>\n",
              "    <tr style=\"text-align: right;\">\n",
              "      <th></th>\n",
              "      <th>0</th>\n",
              "    </tr>\n",
              "  </thead>\n",
              "  <tbody>\n",
              "    <tr>\n",
              "      <th>time</th>\n",
              "      <td>0</td>\n",
              "    </tr>\n",
              "    <tr>\n",
              "      <th>month</th>\n",
              "      <td>0</td>\n",
              "    </tr>\n",
              "    <tr>\n",
              "      <th>hours_after_sunset</th>\n",
              "      <td>0</td>\n",
              "    </tr>\n",
              "    <tr>\n",
              "      <th>bat_landing_number</th>\n",
              "      <td>0</td>\n",
              "    </tr>\n",
              "    <tr>\n",
              "      <th>food_availability</th>\n",
              "      <td>0</td>\n",
              "    </tr>\n",
              "    <tr>\n",
              "      <th>rat_minutes</th>\n",
              "      <td>0</td>\n",
              "    </tr>\n",
              "    <tr>\n",
              "      <th>rat_arrival_number</th>\n",
              "      <td>0</td>\n",
              "    </tr>\n",
              "  </tbody>\n",
              "</table>\n",
              "</div><br><label><b>dtype:</b> int64</label>"
            ]
          },
          "metadata": {},
          "execution_count": 61
        }
      ],
      "source": [
        "data2.isnull().sum()"
      ]
    },
    {
      "cell_type": "code",
      "execution_count": 62,
      "id": "cce5f411-1fb4-4843-b361-737091bbca31",
      "metadata": {
        "id": "cce5f411-1fb4-4843-b361-737091bbca31",
        "colab": {
          "base_uri": "https://localhost:8080/"
        },
        "outputId": "23befd58-5e58-431f-959d-e002ecdb723d"
      },
      "outputs": [
        {
          "output_type": "execute_result",
          "data": {
            "text/plain": [
              "81"
            ]
          },
          "metadata": {},
          "execution_count": 62
        }
      ],
      "source": [
        "data1['habit'].nunique()"
      ]
    },
    {
      "cell_type": "code",
      "execution_count": 62,
      "id": "b8eda1ec-ba7a-4952-a3fd-429fae38d7bd",
      "metadata": {
        "id": "b8eda1ec-ba7a-4952-a3fd-429fae38d7bd"
      },
      "outputs": [],
      "source": []
    },
    {
      "cell_type": "code",
      "execution_count": 63,
      "id": "8c4026db-b1d6-498a-abe0-bd99b1e20375",
      "metadata": {
        "id": "8c4026db-b1d6-498a-abe0-bd99b1e20375"
      },
      "outputs": [],
      "source": [
        "data1.dropna(subset=['habit'], inplace=True)"
      ]
    },
    {
      "cell_type": "code",
      "execution_count": 64,
      "id": "11489229-7e12-494f-bf98-d23086dc18e7",
      "metadata": {
        "id": "11489229-7e12-494f-bf98-d23086dc18e7",
        "colab": {
          "base_uri": "https://localhost:8080/"
        },
        "outputId": "825171f4-70c2-4090-d1d4-e647912e69a3"
      },
      "outputs": [
        {
          "output_type": "stream",
          "name": "stdout",
          "text": [
            "<class 'pandas.core.frame.DataFrame'>\n",
            "Index: 866 entries, 0 to 906\n",
            "Data columns (total 12 columns):\n",
            " #   Column                     Non-Null Count  Dtype  \n",
            "---  ------                     --------------  -----  \n",
            " 0   start_time                 866 non-null    object \n",
            " 1   bat_landing_to_food        866 non-null    float64\n",
            " 2   habit                      866 non-null    object \n",
            " 3   rat_period_start           866 non-null    object \n",
            " 4   rat_period_end             866 non-null    object \n",
            " 5   seconds_after_rat_arrival  866 non-null    int64  \n",
            " 6   risk                       866 non-null    int64  \n",
            " 7   reward                     866 non-null    int64  \n",
            " 8   month                      866 non-null    int64  \n",
            " 9   sunset_time                866 non-null    object \n",
            " 10  hours_after_sunset         866 non-null    float64\n",
            " 11  season                     866 non-null    int64  \n",
            "dtypes: float64(2), int64(5), object(5)\n",
            "memory usage: 88.0+ KB\n"
          ]
        }
      ],
      "source": [
        "data1.info()"
      ]
    },
    {
      "cell_type": "code",
      "execution_count": 65,
      "id": "35522f3d-9e60-4a87-8557-1ee0afff7a38",
      "metadata": {
        "id": "35522f3d-9e60-4a87-8557-1ee0afff7a38"
      },
      "outputs": [],
      "source": [
        "data1['risk'] = data1['risk'].astype(int)"
      ]
    },
    {
      "cell_type": "code",
      "execution_count": 66,
      "id": "09889799-ec74-422a-993e-26acabbdb91a",
      "metadata": {
        "id": "09889799-ec74-422a-993e-26acabbdb91a",
        "colab": {
          "base_uri": "https://localhost:8080/",
          "height": 176
        },
        "outputId": "8cbb395d-930f-4e43-e57b-66d55f49ccab"
      },
      "outputs": [
        {
          "output_type": "execute_result",
          "data": {
            "text/plain": [
              "risk\n",
              "0    0.925659\n",
              "1    0.218263\n",
              "Name: reward, dtype: float64"
            ],
            "text/html": [
              "<div>\n",
              "<style scoped>\n",
              "    .dataframe tbody tr th:only-of-type {\n",
              "        vertical-align: middle;\n",
              "    }\n",
              "\n",
              "    .dataframe tbody tr th {\n",
              "        vertical-align: top;\n",
              "    }\n",
              "\n",
              "    .dataframe thead th {\n",
              "        text-align: right;\n",
              "    }\n",
              "</style>\n",
              "<table border=\"1\" class=\"dataframe\">\n",
              "  <thead>\n",
              "    <tr style=\"text-align: right;\">\n",
              "      <th></th>\n",
              "      <th>reward</th>\n",
              "    </tr>\n",
              "    <tr>\n",
              "      <th>risk</th>\n",
              "      <th></th>\n",
              "    </tr>\n",
              "  </thead>\n",
              "  <tbody>\n",
              "    <tr>\n",
              "      <th>0</th>\n",
              "      <td>0.925659</td>\n",
              "    </tr>\n",
              "    <tr>\n",
              "      <th>1</th>\n",
              "      <td>0.218263</td>\n",
              "    </tr>\n",
              "  </tbody>\n",
              "</table>\n",
              "</div><br><label><b>dtype:</b> float64</label>"
            ]
          },
          "metadata": {},
          "execution_count": 66
        }
      ],
      "source": [
        "reward_rat = data1.groupby('risk')['reward'].mean()\n",
        "reward_rat"
      ]
    },
    {
      "cell_type": "code",
      "execution_count": 67,
      "id": "04832511-1aee-4c24-812e-4fa31b2c9ab2",
      "metadata": {
        "id": "04832511-1aee-4c24-812e-4fa31b2c9ab2",
        "colab": {
          "base_uri": "https://localhost:8080/",
          "height": 410
        },
        "outputId": "6051a55a-9bc0-4c0b-aa8c-dfc3f6409534"
      },
      "outputs": [
        {
          "output_type": "display_data",
          "data": {
            "text/plain": [
              "<Figure size 600x400 with 1 Axes>"
            ],
            "image/png": "[encoded data removed]"
          },
          "metadata": {}
        }
      ],
      "source": [
        "plt.figure(figsize=(6,4))\n",
        "sns.barplot(x=reward_rat.index, y=reward_rat.values)\n",
        "plt.xticks([0,1], [\"Risk Avoidance\", \"Risk Taking\"])\n",
        "plt.ylabel(\"Mean Reward Success\")\n",
        "plt.title(\"Reward Rate Based on Risk Behaviour\")\n",
        "plt.show()"
      ]
    },
    {
      "cell_type": "markdown",
      "id": "8035e378-a115-49c7-abdd-53b5cbd1855a",
      "metadata": {
        "id": "8035e378-a115-49c7-abdd-53b5cbd1855a"
      },
      "source": [
        "lets perform chi square test for dependency in risk and reward\n",
        "* H0 : Risk  and reward are independent\n",
        "* H1  : risk taking and reward are dependent"
      ]
    },
    {
      "cell_type": "code",
      "execution_count": 68,
      "id": "6bdfdfb2-1946-4e9a-9b0a-157a9cb29628",
      "metadata": {
        "id": "6bdfdfb2-1946-4e9a-9b0a-157a9cb29628"
      },
      "outputs": [],
      "source": [
        "from scipy.stats import chi2_contingency"
      ]
    },
    {
      "cell_type": "code",
      "execution_count": 69,
      "id": "19c47ec7-7ba2-44d5-9c01-a8b4528635a0",
      "metadata": {
        "id": "19c47ec7-7ba2-44d5-9c01-a8b4528635a0"
      },
      "outputs": [],
      "source": [
        "contingence = pd.crosstab(data1['risk'], data1['reward'])\n",
        "_,p_value,_,_= chi2_contingency(contingence)"
      ]
    },
    {
      "cell_type": "code",
      "execution_count": 70,
      "id": "b9e9789a-58c0-471c-a76e-4952fda077c7",
      "metadata": {
        "id": "b9e9789a-58c0-471c-a76e-4952fda077c7",
        "colab": {
          "base_uri": "https://localhost:8080/"
        },
        "outputId": "78088a08-938c-4b8d-9294-5fe373a70174"
      },
      "outputs": [
        {
          "output_type": "stream",
          "name": "stdout",
          "text": [
            "8.088801974471012e-97\n"
          ]
        }
      ],
      "source": [
        "print(p_value)"
      ]
    },
    {
      "cell_type": "markdown",
      "id": "91ddb4fb-84d2-48f3-b838-1357d1800cf6",
      "metadata": {
        "id": "91ddb4fb-84d2-48f3-b838-1357d1800cf6"
      },
      "source": [
        "p value is ~ 0 so hypothesis 1 is valid"
      ]
    },
    {
      "cell_type": "markdown",
      "id": "b2ada5ac-548e-42ff-9626-7936eb0b7ff4",
      "metadata": {
        "id": "b2ada5ac-548e-42ff-9626-7936eb0b7ff4"
      },
      "source": [
        "The negative correlation indicatee, more the rat stays less the landing occurs as shown in\n",
        "scatter plot.\n",
        "The above chi square sujject the dependency on risk and reward\n",
        "this support the idea that the bats percive the rats as a potentail predators."
      ]
    },
    {
      "cell_type": "code",
      "execution_count": 70,
      "id": "3207d887-f3a2-410d-b96c-9fafc34e526d",
      "metadata": {
        "id": "3207d887-f3a2-410d-b96c-9fafc34e526d"
      },
      "outputs": [],
      "source": []
    }
  ],
  "metadata": {
    "kernelspec": {
      "display_name": "Python 3 (ipykernel)",
      "language": "python",
      "name": "python3"
    },
    "language_info": {
      "codemirror_mode": {
        "name": "ipython",
        "version": 3
      },
      "file_extension": ".py",
      "mimetype": "text/x-python",
      "name": "python",
      "nbconvert_exporter": "python",
      "pygments_lexer": "ipython3",
      "version": "3.13.5"
    },
    "colab": {
      "provenance": [],
      "include_colab_link": true
    }
  },
  "nbformat": 4,
  "nbformat_minor": 5
}