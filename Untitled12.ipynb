{
  "cells": [
    {
      "cell_type": "markdown",
      "metadata": {
        "id": "view-in-github",
        "colab_type": "text"
      },
      "source": [
        "<a href=\"https://colab.research.google.com/github/arjundai/Foundationofdatascience/blob/main/Untitled12.ipynb\" target=\"_parent\"><img src=\"https://colab.research.google.com/assets/colab-badge.svg\" alt=\"Open In Colab\"/></a>"
      ]
    },
    {
      "cell_type": "code",
      "execution_count": 65,
      "id": "68852a7f-ed47-4139-ac46-36b060335cf0",
      "metadata": {
        "id": "68852a7f-ed47-4139-ac46-36b060335cf0"
      },
      "outputs": [],
      "source": [
        "import pandas as pd\n",
        "import matplotlib.pyplot as plt\n",
        "import seaborn as sns"
      ]
    },
    {
      "cell_type": "code",
      "execution_count": 66,
      "id": "2c3781a5-6357-436a-a033-2508c2859341",
      "metadata": {
        "id": "2c3781a5-6357-436a-a033-2508c2859341",
        "outputId": "0d5bf1c3-8cdc-4630-a90a-af3dab39f70c",
        "colab": {
          "base_uri": "https://localhost:8080/",
          "height": 124
        }
      },
      "outputs": [
        {
          "output_type": "error",
          "ename": "SyntaxError",
          "evalue": "invalid syntax (ipython-input-1366122606.py, line 6)",
          "traceback": [
            "\u001b[0;36m  File \u001b[0;32m\"/tmp/ipython-input-1366122606.py\"\u001b[0;36m, line \u001b[0;32m6\u001b[0m\n\u001b[0;31m    data2 = pd.read_csv(\"/content/drive/My Drive/dataset2 (1).csv\")from google.colab import drive\u001b[0m\n\u001b[0m                                                                   ^\u001b[0m\n\u001b[0;31mSyntaxError\u001b[0m\u001b[0;31m:\u001b[0m invalid syntax\n"
          ]
        }
      ],
      "source": [
        "from google.colab import drive\n",
        "drive.mount('/content/drive')\n",
        "\n",
        "data1 = pd.read_csv(\"/content/drive/My Drive/dataset1 (1).csv\")\n",
        "\n",
        "data2 = pd.read_csv(\"/content/drive/My Drive/dataset2 (1).csv\")from google.colab import drive\n",
        "drive.mount('/content/drive')\n",
        "\n",
        "data1 = pd.read_csv(\"/content/drive/My Drive/dataset1 (1).csv\")\n",
        "\n",
        "data2 = pd.read_csv(\"/content/drive/My Drive/dataset2 (1).csv\")\n"
      ]
    },
    {
      "cell_type": "code",
      "execution_count": null,
      "id": "2c8bf15d-82bc-4f52-889d-970994382182",
      "metadata": {
        "id": "2c8bf15d-82bc-4f52-889d-970994382182"
      },
      "outputs": [],
      "source": [
        "data1.head()"
      ]
    },
    {
      "cell_type": "code",
      "execution_count": null,
      "id": "e237a018-28ae-4c2d-98a2-bc7927c6596c",
      "metadata": {
        "id": "e237a018-28ae-4c2d-98a2-bc7927c6596c"
      },
      "outputs": [],
      "source": [
        "data2.head()"
      ]
    },
    {
      "cell_type": "markdown",
      "id": "d3e8ffea-0203-4977-9511-347ba7728e32",
      "metadata": {
        "id": "d3e8ffea-0203-4977-9511-347ba7728e32"
      },
      "source": [
        "data1 preprocessing phase\n"
      ]
    },
    {
      "cell_type": "code",
      "execution_count": null,
      "id": "67f09854-8a67-429f-9208-9357710922be",
      "metadata": {
        "id": "67f09854-8a67-429f-9208-9357710922be"
      },
      "outputs": [],
      "source": [
        "data1.info()"
      ]
    },
    {
      "cell_type": "code",
      "execution_count": null,
      "id": "1429ae9c-6b3e-4d54-9464-9aa6c79c8801",
      "metadata": {
        "id": "1429ae9c-6b3e-4d54-9464-9aa6c79c8801"
      },
      "outputs": [],
      "source": [
        "data2.info()"
      ]
    },
    {
      "cell_type": "code",
      "execution_count": null,
      "id": "e8c5d88d-7004-4406-9dd8-da4a17b2b861",
      "metadata": {
        "id": "e8c5d88d-7004-4406-9dd8-da4a17b2b861"
      },
      "outputs": [],
      "source": [
        "data2.isnull().sum()"
      ]
    },
    {
      "cell_type": "code",
      "execution_count": null,
      "id": "cce5f411-1fb4-4843-b361-737091bbca31",
      "metadata": {
        "id": "cce5f411-1fb4-4843-b361-737091bbca31"
      },
      "outputs": [],
      "source": [
        "data1['habit'].nunique()"
      ]
    },
    {
      "cell_type": "code",
      "execution_count": null,
      "id": "b8eda1ec-ba7a-4952-a3fd-429fae38d7bd",
      "metadata": {
        "id": "b8eda1ec-ba7a-4952-a3fd-429fae38d7bd"
      },
      "outputs": [],
      "source": [
        "habits_values = data1['habit'].unique()\n",
        "print(habits_values)"
      ]
    },
    {
      "cell_type": "code",
      "execution_count": null,
      "id": "59ec9b9c-c43e-439f-bd7a-a620f08382c6",
      "metadata": {
        "id": "59ec9b9c-c43e-439f-bd7a-a620f08382c6"
      },
      "outputs": [],
      "source": [
        "data1['habit'] = data1['habit'].astype(str).str.lower().str.strip()"
      ]
    },
    {
      "cell_type": "code",
      "execution_count": null,
      "id": "319f61ab-c360-452d-8c3c-146e940278e6",
      "metadata": {
        "id": "319f61ab-c360-452d-8c3c-146e940278e6"
      },
      "outputs": [],
      "source": [
        "import numpy as np\n",
        "is_numeric = data1['habit'].str.contains(r'\\d', na=False)\n",
        "data1.loc[is_numeric, 'habit'] = np.nan"
      ]
    },
    {
      "cell_type": "code",
      "execution_count": null,
      "id": "3423cac7-2868-454e-8382-1e97cce3a737",
      "metadata": {
        "id": "3423cac7-2868-454e-8382-1e97cce3a737"
      },
      "outputs": [],
      "source": [
        "data1['habit'] = data1['habit'].fillna('unknown')\n",
        "# data1.dropna(subset=['habit'], inplace=True)"
      ]
    },
    {
      "cell_type": "code",
      "execution_count": null,
      "id": "e79c9655-30f1-438b-a1f5-039b5f53a236",
      "metadata": {
        "id": "e79c9655-30f1-438b-a1f5-039b5f53a236"
      },
      "outputs": [],
      "source": [
        "data1['habit'] = data1['habit'].str.replace(' ', '_').str.replace('/', '_')"
      ]
    },
    {
      "cell_type": "code",
      "execution_count": null,
      "id": "c16710ed-a85b-4936-a5c9-ac896efb8995",
      "metadata": {
        "id": "c16710ed-a85b-4936-a5c9-ac896efb8995"
      },
      "outputs": [],
      "source": [
        "replacements = {\n",
        "    \"figiht\": \"fight\",\n",
        "    \"eatting\": \"eat\",\n",
        "    \"eating\": \"eat\",\n",
        "    \"attackrat\": \"rat_attack\",\n",
        "    \"attack_rat\": \"rat_attack\",\n",
        "    \"bat_figiht\": \"bat_fight\",\n",
        "    \"batandpick\": \"bat_pick\",\n",
        "    \"pickandbat\": \"bat_pick\",\n",
        "    \"batandrat\": \"rat_bat\",\n",
        "    \"ratandbat\": \"rat_bat\",\n",
        "    \"bat_rat\":\"rat_bat\",\n",
        "    \"pick_and_rat\":\"rat_and_pick\",\n",
        "    \"bat_and_rat\":\"rat_and_bat\",\n",
        "    \"pick_rat\":\"rat_pick\",\n",
        "}\n",
        "data1['habit'] = data1['habit'].apply(lambda x: replacements.get(x, x))"
      ]
    },
    {
      "cell_type": "code",
      "execution_count": null,
      "id": "f26fa357-e890-486b-b6ee-defb58f3935f",
      "metadata": {
        "id": "f26fa357-e890-486b-b6ee-defb58f3935f"
      },
      "outputs": [],
      "source": [
        "habits_values = data1['habit'].unique()\n",
        "print(habits_values)"
      ]
    },
    {
      "cell_type": "code",
      "execution_count": null,
      "id": "11f7e2aa-d545-43cc-8ced-7d3bd7a7a890",
      "metadata": {
        "id": "11f7e2aa-d545-43cc-8ced-7d3bd7a7a890"
      },
      "outputs": [],
      "source": []
    },
    {
      "cell_type": "code",
      "execution_count": null,
      "id": "8c4026db-b1d6-498a-abe0-bd99b1e20375",
      "metadata": {
        "id": "8c4026db-b1d6-498a-abe0-bd99b1e20375"
      },
      "outputs": [],
      "source": []
    },
    {
      "cell_type": "code",
      "execution_count": null,
      "id": "11489229-7e12-494f-bf98-d23086dc18e7",
      "metadata": {
        "id": "11489229-7e12-494f-bf98-d23086dc18e7"
      },
      "outputs": [],
      "source": [
        "data1.info()"
      ]
    },
    {
      "cell_type": "code",
      "execution_count": null,
      "id": "35522f3d-9e60-4a87-8557-1ee0afff7a38",
      "metadata": {
        "id": "35522f3d-9e60-4a87-8557-1ee0afff7a38"
      },
      "outputs": [],
      "source": [
        "data1['risk'] = data1['risk'].astype(int)"
      ]
    },
    {
      "cell_type": "code",
      "execution_count": 67,
      "id": "3207d887-f3a2-410d-b96c-9fafc34e526d",
      "metadata": {
        "id": "3207d887-f3a2-410d-b96c-9fafc34e526d",
        "colab": {
          "base_uri": "https://localhost:8080/",
          "height": 410
        },
        "outputId": "73e3a703-8d90-44a6-c400-aa86dbb9797a"
      },
      "outputs": [
        {
          "output_type": "display_data",
          "data": {
            "text/plain": [
              "<Figure size 600x400 with 1 Axes>"
            ],
            "image/png": "[encoded data removed]"
          },
          "metadata": {}
        }
      ],
      "source": [
        "plt.figure(figsize=(6,4))\n",
        "sns.scatterplot(data=data2, x='rat_minutes', y='bat_landing_number')\n",
        "plt.title(\"Bats Landing Count When Rats are Present in Minutes\")\n",
        "plt.xlabel(\"Rat Minutes\")\n",
        "plt.ylabel(\"Bat Landings\")\n",
        "plt.show()"
      ]
    },
    {
      "cell_type": "code",
      "execution_count": null,
      "id": "e608ecae-2bb7-4d8d-8de3-0755611de617",
      "metadata": {
        "id": "e608ecae-2bb7-4d8d-8de3-0755611de617"
      },
      "outputs": [],
      "source": []
    }
  ],
  "metadata": {
    "kernelspec": {
      "display_name": "base",
      "language": "python",
      "name": "python3"
    },
    "language_info": {
      "codemirror_mode": {
        "name": "ipython",
        "version": 3
      },
      "file_extension": ".py",
      "mimetype": "text/x-python",
      "name": "python",
      "nbconvert_exporter": "python",
      "pygments_lexer": "ipython3",
      "version": "3.9.12"
    },
    "colab": {
      "provenance": [],
      "include_colab_link": true
    }
  },
  "nbformat": 4,
  "nbformat_minor": 5
}