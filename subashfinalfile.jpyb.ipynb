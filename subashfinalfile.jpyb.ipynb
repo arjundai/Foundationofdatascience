{
 "cells": [
  {
   "cell_type": "code",
   "execution_count": 1,
   "id": "68852a7f-ed47-4139-ac46-36b060335cf0",
   "metadata": {},
   "outputs": [],
   "source": [
    "import pandas as pd\n",
    "import matplotlib.pyplot as plt\n",
    "import seaborn as sns"
   ]
  },
  {
   "cell_type": "code",
   "execution_count": 2,
   "id": "2c3781a5-6357-436a-a033-2508c2859341",
   "metadata": {},
   "outputs": [],
   "source": [
    "data1 = pd.read_csv(r\"dataset1 (1).csv\")"
   ]
  },
  {
   "cell_type": "code",
   "execution_count": 3,
   "id": "abb31c14-9eab-4d63-baeb-be1fa7f63b17",
   "metadata": {},
   "outputs": [],
   "source": [
    "data2 = pd.read_csv(r\"dataset2 (1).csv\")"
   ]
  },
  {
   "cell_type": "code",
   "execution_count": 4,
   "id": "2c8bf15d-82bc-4f52-889d-970994382182",
   "metadata": {},
   "outputs": [
    {
     "data": {
      "text/html": [
       "<div>\n",
       "<style scoped>\n",
       "    .dataframe tbody tr th:only-of-type {\n",
       "        vertical-align: middle;\n",
       "    }\n",
       "\n",
       "    .dataframe tbody tr th {\n",
       "        vertical-align: top;\n",
       "    }\n",
       "\n",
       "    .dataframe thead th {\n",
       "        text-align: right;\n",
       "    }\n",
       "</style>\n",
       "<table border=\"1\" class=\"dataframe\">\n",
       "  <thead>\n",
       "    <tr style=\"text-align: right;\">\n",
       "      <th></th>\n",
       "      <th>start_time</th>\n",
       "      <th>bat_landing_to_food</th>\n",
       "      <th>habit</th>\n",
       "      <th>rat_period_start</th>\n",
       "      <th>rat_period_end</th>\n",
       "      <th>seconds_after_rat_arrival</th>\n",
       "      <th>risk</th>\n",
       "      <th>reward</th>\n",
       "      <th>month</th>\n",
       "      <th>sunset_time</th>\n",
       "      <th>hours_after_sunset</th>\n",
       "      <th>season</th>\n",
       "    </tr>\n",
       "  </thead>\n",
       "  <tbody>\n",
       "    <tr>\n",
       "      <th>0</th>\n",
       "      <td>30/12/2017 18:37</td>\n",
       "      <td>16.000000</td>\n",
       "      <td>rat</td>\n",
       "      <td>30/12/2017 18:35</td>\n",
       "      <td>30/12/2017 18:38</td>\n",
       "      <td>108</td>\n",
       "      <td>1</td>\n",
       "      <td>0</td>\n",
       "      <td>0</td>\n",
       "      <td>30/12/2017 16:45</td>\n",
       "      <td>1.870833</td>\n",
       "      <td>0</td>\n",
       "    </tr>\n",
       "    <tr>\n",
       "      <th>1</th>\n",
       "      <td>30/12/2017 19:51</td>\n",
       "      <td>0.074016</td>\n",
       "      <td>fast</td>\n",
       "      <td>30/12/2017 19:50</td>\n",
       "      <td>30/12/2017 19:55</td>\n",
       "      <td>17</td>\n",
       "      <td>0</td>\n",
       "      <td>1</td>\n",
       "      <td>0</td>\n",
       "      <td>30/12/2017 16:45</td>\n",
       "      <td>3.100833</td>\n",
       "      <td>0</td>\n",
       "    </tr>\n",
       "    <tr>\n",
       "      <th>2</th>\n",
       "      <td>30/12/2017 19:51</td>\n",
       "      <td>4.000000</td>\n",
       "      <td>fast</td>\n",
       "      <td>30/12/2017 19:50</td>\n",
       "      <td>30/12/2017 19:55</td>\n",
       "      <td>41</td>\n",
       "      <td>0</td>\n",
       "      <td>1</td>\n",
       "      <td>0</td>\n",
       "      <td>30/12/2017 16:45</td>\n",
       "      <td>3.107500</td>\n",
       "      <td>0</td>\n",
       "    </tr>\n",
       "    <tr>\n",
       "      <th>3</th>\n",
       "      <td>30/12/2017 19:52</td>\n",
       "      <td>10.000000</td>\n",
       "      <td>rat</td>\n",
       "      <td>30/12/2017 19:50</td>\n",
       "      <td>30/12/2017 19:55</td>\n",
       "      <td>111</td>\n",
       "      <td>1</td>\n",
       "      <td>0</td>\n",
       "      <td>0</td>\n",
       "      <td>30/12/2017 16:45</td>\n",
       "      <td>3.126944</td>\n",
       "      <td>0</td>\n",
       "    </tr>\n",
       "    <tr>\n",
       "      <th>4</th>\n",
       "      <td>30/12/2017 19:54</td>\n",
       "      <td>15.000000</td>\n",
       "      <td>rat</td>\n",
       "      <td>30/12/2017 19:50</td>\n",
       "      <td>30/12/2017 19:55</td>\n",
       "      <td>194</td>\n",
       "      <td>1</td>\n",
       "      <td>0</td>\n",
       "      <td>0</td>\n",
       "      <td>30/12/2017 16:45</td>\n",
       "      <td>3.150000</td>\n",
       "      <td>0</td>\n",
       "    </tr>\n",
       "  </tbody>\n",
       "</table>\n",
       "</div>"
      ],
      "text/plain": [
       "         start_time  bat_landing_to_food habit  rat_period_start  \\\n",
       "0  30/12/2017 18:37            16.000000   rat  30/12/2017 18:35   \n",
       "1  30/12/2017 19:51             0.074016  fast  30/12/2017 19:50   \n",
       "2  30/12/2017 19:51             4.000000  fast  30/12/2017 19:50   \n",
       "3  30/12/2017 19:52            10.000000   rat  30/12/2017 19:50   \n",
       "4  30/12/2017 19:54            15.000000   rat  30/12/2017 19:50   \n",
       "\n",
       "     rat_period_end  seconds_after_rat_arrival  risk  reward  month  \\\n",
       "0  30/12/2017 18:38                        108     1       0      0   \n",
       "1  30/12/2017 19:55                         17     0       1      0   \n",
       "2  30/12/2017 19:55                         41     0       1      0   \n",
       "3  30/12/2017 19:55                        111     1       0      0   \n",
       "4  30/12/2017 19:55                        194     1       0      0   \n",
       "\n",
       "        sunset_time  hours_after_sunset  season  \n",
       "0  30/12/2017 16:45            1.870833       0  \n",
       "1  30/12/2017 16:45            3.100833       0  \n",
       "2  30/12/2017 16:45            3.107500       0  \n",
       "3  30/12/2017 16:45            3.126944       0  \n",
       "4  30/12/2017 16:45            3.150000       0  "
      ]
     },
     "execution_count": 4,
     "metadata": {},
     "output_type": "execute_result"
    }
   ],
   "source": [
    "data1.head()"
   ]
  },
  {
   "cell_type": "code",
   "execution_count": 5,
   "id": "e237a018-28ae-4c2d-98a2-bc7927c6596c",
   "metadata": {},
   "outputs": [
    {
     "data": {
      "text/html": [
       "<div>\n",
       "<style scoped>\n",
       "    .dataframe tbody tr th:only-of-type {\n",
       "        vertical-align: middle;\n",
       "    }\n",
       "\n",
       "    .dataframe tbody tr th {\n",
       "        vertical-align: top;\n",
       "    }\n",
       "\n",
       "    .dataframe thead th {\n",
       "        text-align: right;\n",
       "    }\n",
       "</style>\n",
       "<table border=\"1\" class=\"dataframe\">\n",
       "  <thead>\n",
       "    <tr style=\"text-align: right;\">\n",
       "      <th></th>\n",
       "      <th>time</th>\n",
       "      <th>month</th>\n",
       "      <th>hours_after_sunset</th>\n",
       "      <th>bat_landing_number</th>\n",
       "      <th>food_availability</th>\n",
       "      <th>rat_minutes</th>\n",
       "      <th>rat_arrival_number</th>\n",
       "    </tr>\n",
       "  </thead>\n",
       "  <tbody>\n",
       "    <tr>\n",
       "      <th>0</th>\n",
       "      <td>26/12/2017 16:13</td>\n",
       "      <td>0</td>\n",
       "      <td>-0.5</td>\n",
       "      <td>20</td>\n",
       "      <td>4.000000</td>\n",
       "      <td>0.0</td>\n",
       "      <td>0</td>\n",
       "    </tr>\n",
       "    <tr>\n",
       "      <th>1</th>\n",
       "      <td>26/12/2017 16:43</td>\n",
       "      <td>0</td>\n",
       "      <td>0.0</td>\n",
       "      <td>28</td>\n",
       "      <td>4.000000</td>\n",
       "      <td>0.0</td>\n",
       "      <td>0</td>\n",
       "    </tr>\n",
       "    <tr>\n",
       "      <th>2</th>\n",
       "      <td>26/12/2017 17:13</td>\n",
       "      <td>0</td>\n",
       "      <td>0.5</td>\n",
       "      <td>25</td>\n",
       "      <td>4.000000</td>\n",
       "      <td>0.0</td>\n",
       "      <td>0</td>\n",
       "    </tr>\n",
       "    <tr>\n",
       "      <th>3</th>\n",
       "      <td>26/12/2017 17:43</td>\n",
       "      <td>0</td>\n",
       "      <td>1.0</td>\n",
       "      <td>71</td>\n",
       "      <td>4.000000</td>\n",
       "      <td>0.0</td>\n",
       "      <td>0</td>\n",
       "    </tr>\n",
       "    <tr>\n",
       "      <th>4</th>\n",
       "      <td>26/12/2017 18:13</td>\n",
       "      <td>0</td>\n",
       "      <td>1.5</td>\n",
       "      <td>44</td>\n",
       "      <td>3.753857</td>\n",
       "      <td>0.0</td>\n",
       "      <td>0</td>\n",
       "    </tr>\n",
       "  </tbody>\n",
       "</table>\n",
       "</div>"
      ],
      "text/plain": [
       "               time  month  hours_after_sunset  bat_landing_number  \\\n",
       "0  26/12/2017 16:13      0                -0.5                  20   \n",
       "1  26/12/2017 16:43      0                 0.0                  28   \n",
       "2  26/12/2017 17:13      0                 0.5                  25   \n",
       "3  26/12/2017 17:43      0                 1.0                  71   \n",
       "4  26/12/2017 18:13      0                 1.5                  44   \n",
       "\n",
       "   food_availability  rat_minutes  rat_arrival_number  \n",
       "0           4.000000          0.0                   0  \n",
       "1           4.000000          0.0                   0  \n",
       "2           4.000000          0.0                   0  \n",
       "3           4.000000          0.0                   0  \n",
       "4           3.753857          0.0                   0  "
      ]
     },
     "execution_count": 5,
     "metadata": {},
     "output_type": "execute_result"
    }
   ],
   "source": [
    "data2.head()"
   ]
  },
  {
   "cell_type": "markdown",
   "id": "d3e8ffea-0203-4977-9511-347ba7728e32",
   "metadata": {},
   "source": [
    "data1 preprocessing phase\n"
   ]
  },
  {
   "cell_type": "code",
   "execution_count": 6,
   "id": "67f09854-8a67-429f-9208-9357710922be",
   "metadata": {},
   "outputs": [
    {
     "name": "stdout",
     "output_type": "stream",
     "text": [
      "<class 'pandas.core.frame.DataFrame'>\n",
      "RangeIndex: 907 entries, 0 to 906\n",
      "Data columns (total 12 columns):\n",
      " #   Column                     Non-Null Count  Dtype  \n",
      "---  ------                     --------------  -----  \n",
      " 0   start_time                 907 non-null    object \n",
      " 1   bat_landing_to_food        907 non-null    float64\n",
      " 2   habit                      866 non-null    object \n",
      " 3   rat_period_start           907 non-null    object \n",
      " 4   rat_period_end             907 non-null    object \n",
      " 5   seconds_after_rat_arrival  907 non-null    int64  \n",
      " 6   risk                       907 non-null    int64  \n",
      " 7   reward                     907 non-null    int64  \n",
      " 8   month                      907 non-null    int64  \n",
      " 9   sunset_time                907 non-null    object \n",
      " 10  hours_after_sunset         907 non-null    float64\n",
      " 11  season                     907 non-null    int64  \n",
      "dtypes: float64(2), int64(5), object(5)\n",
      "memory usage: 85.2+ KB\n"
     ]
    }
   ],
   "source": [
    "data1.info()"
   ]
  },
  {
   "cell_type": "code",
   "execution_count": 7,
   "id": "1429ae9c-6b3e-4d54-9464-9aa6c79c8801",
   "metadata": {},
   "outputs": [
    {
     "name": "stdout",
     "output_type": "stream",
     "text": [
      "<class 'pandas.core.frame.DataFrame'>\n",
      "RangeIndex: 2123 entries, 0 to 2122\n",
      "Data columns (total 7 columns):\n",
      " #   Column              Non-Null Count  Dtype  \n",
      "---  ------              --------------  -----  \n",
      " 0   time                2123 non-null   object \n",
      " 1   month               2123 non-null   int64  \n",
      " 2   hours_after_sunset  2123 non-null   float64\n",
      " 3   bat_landing_number  2123 non-null   int64  \n",
      " 4   food_availability   2123 non-null   float64\n",
      " 5   rat_minutes         2123 non-null   float64\n",
      " 6   rat_arrival_number  2123 non-null   int64  \n",
      "dtypes: float64(3), int64(3), object(1)\n",
      "memory usage: 116.2+ KB\n"
     ]
    }
   ],
   "source": [
    "data2.info()"
   ]
  },
  {
   "cell_type": "code",
   "execution_count": 8,
   "id": "e8c5d88d-7004-4406-9dd8-da4a17b2b861",
   "metadata": {},
   "outputs": [
    {
     "data": {
      "text/plain": [
       "time                  0\n",
       "month                 0\n",
       "hours_after_sunset    0\n",
       "bat_landing_number    0\n",
       "food_availability     0\n",
       "rat_minutes           0\n",
       "rat_arrival_number    0\n",
       "dtype: int64"
      ]
     },
     "execution_count": 8,
     "metadata": {},
     "output_type": "execute_result"
    }
   ],
   "source": [
    "data2.isnull().sum()"
   ]
  },
  {
   "cell_type": "code",
   "execution_count": 9,
   "id": "cce5f411-1fb4-4843-b361-737091bbca31",
   "metadata": {},
   "outputs": [
    {
     "data": {
      "text/plain": [
       "81"
      ]
     },
     "execution_count": 9,
     "metadata": {},
     "output_type": "execute_result"
    }
   ],
   "source": [
    "data1['habit'].nunique()"
   ]
  },
  {
   "cell_type": "code",
   "execution_count": 10,
   "id": "b8eda1ec-ba7a-4952-a3fd-429fae38d7bd",
   "metadata": {},
   "outputs": [
    {
     "name": "stdout",
     "output_type": "stream",
     "text": [
      "['rat' 'fast' 'pick' 'bat_fight' 'rat_and_no_food' nan 'rat_and_others'\n",
      " 'pick_and_others' 'gaze' 'pick_rat' 'bat' 'both' 'pick_bat'\n",
      " '94.0,305.0,239.0,416.0; 364.8,139.3,462.3,241.3' 'rat attack'\n",
      " 'attack_rat' 'bat_and_rat' 'rat_attack' 'other_bats' 'rat_pick'\n",
      " 'rat_and_bat' 'bowl_out' 'other_bat'\n",
      " '373.0,80.0,504.0,148.0; 274.6,110.7,382.4,267.3' 'other'\n",
      " '245.6,179.5,321.4,314.0; 522.4,0.3,592.0,95.5' 'eating' 'rat_to_bat'\n",
      " 'other_bats/rat'\n",
      " '405.6,112.3,513.1,215.4; 464.1,197.7,614.9,334.3; 511.5,301.1,639.4,388.9'\n",
      " 'pick_and_all' 'bat_and_pick' 'bat_fight_and_pick'\n",
      " '187.0,152.0,304.0,240.0; 567.9,88.6,621.1,140.3'\n",
      " '44.0,77.0,157.0,240.0; 253.0,96.0,346.0,147.0'\n",
      " '397.7,159.7,580.2,330.5; 252.0,92.0,346.0,149.0' 'pick_and_bat'\n",
      " '218.0,171.0,381.0,269.0; 239.0,106.0,315.0,155.0'\n",
      " '423.0,155.9,535.6,370.9; 238.0,99.0,314.0,160.0'\n",
      " 'eating_and_bat_and_pick' 'bat_figiht' 'bat_pick_rat'\n",
      " '415.0,86.5,559.2,140.2; 66.0,157.0,285.0,279.0' 'rat_pick_and_bat'\n",
      " 'pick_and_rat' 'fight_rat' 'all_pick' 'no_food' 'bats' 'others'\n",
      " 'rat_and_pick' '157.0,2.6,349.0,159.3; 572.1,275.7,638.3,360.0'\n",
      " 'pick_rat_bat' 'bat_and_pick_far' 'fast_far'\n",
      " '530.0,20.0,611.0,156.0; 227.6,128.8,290.8,208.0' 'fight' 'bat_rat_pick'\n",
      " 'bat_pick' 'rat_disappear' 'eating_bat_rat_pick' 'fast_and_pick'\n",
      " 'other directions' '243.6,235.6,432.2,329.8; 559.0,244.0,622.0,395.0'\n",
      " 'bat_fight_rat' 'bat_rat' 'pup_and_mon' 'pick_eating_all'\n",
      " '511.7,236.3,632.2,404.5; 445.0,199.0,503.0,245.0' 'pick_bat_rat'\n",
      " '417.7,117.1,635.5,346.0; 243.0,272.0,308.0,379.0; 438.0,230.0,494.0,291.0'\n",
      " 'rat_bat' 'rat_bat_fight' 'eating_bat_pick' 'pick_rat_and_bat'\n",
      " 'fight_bat' '380.6,321.1,550.6,477.5; 263.0,267.0,421.0,435.0'\n",
      " 'bat_fight_and_rat' 'rat_and_rat' 'not_sure_rat'\n",
      " '501.0,358.4,636.2,423.4; 476.0,103.0,634.0,206.0' 'rat_and_bat_and_pick']\n"
     ]
    }
   ],
   "source": [
    "habits_values = data1['habit'].unique()\n",
    "print(habits_values)"
   ]
  },
  {
   "cell_type": "code",
   "execution_count": 11,
   "id": "59ec9b9c-c43e-439f-bd7a-a620f08382c6",
   "metadata": {},
   "outputs": [],
   "source": [
    "data1['habit'] = data1['habit'].astype(str).str.lower().str.strip()"
   ]
  },
  {
   "cell_type": "code",
   "execution_count": 12,
   "id": "319f61ab-c360-452d-8c3c-146e940278e6",
   "metadata": {},
   "outputs": [],
   "source": [
    "import numpy as np\n",
    "is_numeric = data1['habit'].str.contains(r'\\d', na=False)\n",
    "data1.loc[is_numeric, 'habit'] = np.nan"
   ]
  },
  {
   "cell_type": "code",
   "execution_count": 13,
   "id": "3423cac7-2868-454e-8382-1e97cce3a737",
   "metadata": {},
   "outputs": [],
   "source": [
    "data1['habit'] = data1['habit'].fillna('unknown')\n",
    "# data1.dropna(subset=['habit'], inplace=True)"
   ]
  },
  {
   "cell_type": "code",
   "execution_count": 14,
   "id": "e79c9655-30f1-438b-a1f5-039b5f53a236",
   "metadata": {},
   "outputs": [],
   "source": [
    "data1['habit'] = data1['habit'].str.replace(' ', '_').str.replace('/', '_')"
   ]
  },
  {
   "cell_type": "code",
   "execution_count": 15,
   "id": "c16710ed-a85b-4936-a5c9-ac896efb8995",
   "metadata": {},
   "outputs": [],
   "source": [
    "replacements = {\n",
    "    \"figiht\": \"fight\",\n",
    "    \"eatting\": \"eat\",\n",
    "    \"eating\": \"eat\",\n",
    "    \"attackrat\": \"rat_attack\",\n",
    "    \"attack_rat\": \"rat_attack\",\n",
    "    \"bat_figiht\": \"bat_fight\",\n",
    "    \"batandpick\": \"bat_pick\",\n",
    "    \"pickandbat\": \"bat_pick\",\n",
    "    \"batandrat\": \"rat_bat\",\n",
    "    \"ratandbat\": \"rat_bat\",\n",
    "    \"bat_rat\":\"rat_bat\",\n",
    "    \"pick_and_rat\":\"rat_and_pick\",\n",
    "    \"bat_and_rat\":\"rat_and_bat\",\n",
    "    \"pick_rat\":\"rat_pick\",\n",
    "}\n",
    "data1['habit'] = data1['habit'].apply(lambda x: replacements.get(x, x))"
   ]
  },
  {
   "cell_type": "code",
   "execution_count": 16,
   "id": "f26fa357-e890-486b-b6ee-defb58f3935f",
   "metadata": {},
   "outputs": [
    {
     "name": "stdout",
     "output_type": "stream",
     "text": [
      "['rat' 'fast' 'pick' 'bat_fight' 'rat_and_no_food' 'nan' 'rat_and_others'\n",
      " 'pick_and_others' 'gaze' 'rat_pick' 'bat' 'both' 'pick_bat' 'unknown'\n",
      " 'rat_attack' 'rat_and_bat' 'other_bats' 'bowl_out' 'other_bat' 'other'\n",
      " 'eat' 'rat_to_bat' 'other_bats_rat' 'pick_and_all' 'bat_and_pick'\n",
      " 'bat_fight_and_pick' 'pick_and_bat' 'eating_and_bat_and_pick'\n",
      " 'bat_pick_rat' 'rat_pick_and_bat' 'rat_and_pick' 'fight_rat' 'all_pick'\n",
      " 'no_food' 'bats' 'others' 'pick_rat_bat' 'bat_and_pick_far' 'fast_far'\n",
      " 'fight' 'bat_rat_pick' 'bat_pick' 'rat_disappear' 'eating_bat_rat_pick'\n",
      " 'fast_and_pick' 'other_directions' 'bat_fight_rat' 'rat_bat'\n",
      " 'pup_and_mon' 'pick_eating_all' 'pick_bat_rat' 'rat_bat_fight'\n",
      " 'eating_bat_pick' 'pick_rat_and_bat' 'fight_bat' 'bat_fight_and_rat'\n",
      " 'rat_and_rat' 'not_sure_rat' 'rat_and_bat_and_pick']\n"
     ]
    }
   ],
   "source": [
    "habits_values = data1['habit'].unique()\n",
    "print(habits_values)"
   ]
  },
  {
   "cell_type": "code",
   "execution_count": null,
   "id": "11f7e2aa-d545-43cc-8ced-7d3bd7a7a890",
   "metadata": {},
   "outputs": [],
   "source": []
  },
  {
   "cell_type": "code",
   "execution_count": null,
   "id": "8c4026db-b1d6-498a-abe0-bd99b1e20375",
   "metadata": {},
   "outputs": [],
   "source": []
  },
  {
   "cell_type": "code",
   "execution_count": 17,
   "id": "11489229-7e12-494f-bf98-d23086dc18e7",
   "metadata": {},
   "outputs": [
    {
     "name": "stdout",
     "output_type": "stream",
     "text": [
      "<class 'pandas.core.frame.DataFrame'>\n",
      "RangeIndex: 907 entries, 0 to 906\n",
      "Data columns (total 12 columns):\n",
      " #   Column                     Non-Null Count  Dtype  \n",
      "---  ------                     --------------  -----  \n",
      " 0   start_time                 907 non-null    object \n",
      " 1   bat_landing_to_food        907 non-null    float64\n",
      " 2   habit                      907 non-null    object \n",
      " 3   rat_period_start           907 non-null    object \n",
      " 4   rat_period_end             907 non-null    object \n",
      " 5   seconds_after_rat_arrival  907 non-null    int64  \n",
      " 6   risk                       907 non-null    int64  \n",
      " 7   reward                     907 non-null    int64  \n",
      " 8   month                      907 non-null    int64  \n",
      " 9   sunset_time                907 non-null    object \n",
      " 10  hours_after_sunset         907 non-null    float64\n",
      " 11  season                     907 non-null    int64  \n",
      "dtypes: float64(2), int64(5), object(5)\n",
      "memory usage: 85.2+ KB\n"
     ]
    }
   ],
   "source": [
    "data1.info()"
   ]
  },
  {
   "cell_type": "code",
   "execution_count": 18,
   "id": "35522f3d-9e60-4a87-8557-1ee0afff7a38",
   "metadata": {},
   "outputs": [],
   "source": [
    "data1['risk'] = data1['risk'].astype(int)"
   ]
  },
  {
   "cell_type": "code",
   "execution_count": 19,
   "id": "7d3db1d3-41f8-4a24-a74b-f2920f33864b",
   "metadata": {},
   "outputs": [
    {
     "data": {
      "image/png": "[encoded data removed]",
      "text/plain": [
       "<Figure size 432x288 with 1 Axes>"
      ]
     },
     "metadata": {
      "needs_background": "light"
     },
     "output_type": "display_data"
    }
   ],
   "source": [
    "plt.figure(figsize=(6,4))\n",
    "sns.countplot(data=data1, x='risk')\n",
    "plt.xticks([0,1], [\"Risk Avoidance (0)\", \"Risk Taking (1)\"])\n",
    "plt.title(\"Bat Risk Behaviour\")\n",
    "plt.xlabel(\"Risk Behaviour\")\n",
    "plt.ylabel(\"Count\")\n",
    "plt.show()"
   ]
  },
  {
   "cell_type": "code",
   "execution_count": 20,
   "id": "09889799-ec74-422a-993e-26acabbdb91a",
   "metadata": {},
   "outputs": [
    {
     "data": {
      "text/plain": [
       "risk\n",
       "0    0.842795\n",
       "1    0.218263\n",
       "Name: reward, dtype: float64"
      ]
     },
     "execution_count": 20,
     "metadata": {},
     "output_type": "execute_result"
    }
   ],
   "source": [
    "reward_rat = data1.groupby('risk')['reward'].mean()\n",
    "reward_rat"
   ]
  },
  {
   "cell_type": "code",
   "execution_count": 21,
   "id": "04832511-1aee-4c24-812e-4fa31b2c9ab2",
   "metadata": {},
   "outputs": [
    {
     "data": {
      "image/png": "[encoded data removed]",
      "text/plain": [
       "<Figure size 432x288 with 1 Axes>"
      ]
     },
     "metadata": {
      "needs_background": "light"
     },
     "output_type": "display_data"
    }
   ],
   "source": [
    "plt.figure(figsize=(6,4))\n",
    "sns.barplot(x=reward_rat.index, y=reward_rat.values)\n",
    "plt.xticks([0,1], [\"Risk Avoidance\", \"Risk Taking\"])\n",
    "plt.ylabel(\"Mean Reward Success\")\n",
    "plt.title(\"Reward Rate Based on Risk Behaviour\")\n",
    "plt.show()"
   ]
  },
  {
   "cell_type": "markdown",
   "id": "8035e378-a115-49c7-abdd-53b5cbd1855a",
   "metadata": {},
   "source": [
    "lets perform chi square test for dependency in risk and reward\n",
    "* H0 : Risk  and reward are independent\n",
    "* H1  : risk taking and reward are dependent"
   ]
  },
  {
   "cell_type": "code",
   "execution_count": 22,
   "id": "6bdfdfb2-1946-4e9a-9b0a-157a9cb29628",
   "metadata": {},
   "outputs": [],
   "source": [
    "from scipy.stats import chi2_contingency"
   ]
  },
  {
   "cell_type": "code",
   "execution_count": 23,
   "id": "19c47ec7-7ba2-44d5-9c01-a8b4528635a0",
   "metadata": {},
   "outputs": [],
   "source": [
    "contingence = pd.crosstab(data1['risk'], data1['reward'])\n",
    "_,p_value,_,_= chi2_contingency(contingence)"
   ]
  },
  {
   "cell_type": "code",
   "execution_count": 24,
   "id": "b9e9789a-58c0-471c-a76e-4952fda077c7",
   "metadata": {},
   "outputs": [
    {
     "name": "stdout",
     "output_type": "stream",
     "text": [
      "1.0233966969013452e-78\n"
     ]
    }
   ],
   "source": [
    "print(p_value)"
   ]
  },
  {
   "cell_type": "markdown",
   "id": "91ddb4fb-84d2-48f3-b838-1357d1800cf6",
   "metadata": {},
   "source": [
    "p value is ~ 0 so hypothesis 1 is valid "
   ]
  },
  {
   "cell_type": "code",
   "execution_count": 25,
   "id": "b593730c-e7af-4923-8b9e-8a56c1f01f8b",
   "metadata": {},
   "outputs": [
    {
     "data": {
      "image/png": "[encoded data removed]",
      "text/plain": [
       "<Figure size 432x288 with 1 Axes>"
      ]
     },
     "metadata": {
      "needs_background": "light"
     },
     "output_type": "display_data"
    }
   ],
   "source": [
    "plt.figure(figsize=(6,4))\n",
    "sns.boxplot(x=data1['risk'], y=data1['seconds_after_rat_arrival'])\n",
    "plt.title(\"Seconds after Rat Arrival vs Risk Behaviour\")\n",
    "plt.xlabel(\"Risk Behaviour (0=Avoid, 1=Risk-Taking)\")\n",
    "plt.ylabel(\"Seconds after Rat Arrival\")\n",
    "plt.show()"
   ]
  },
  {
   "cell_type": "code",
   "execution_count": 26,
   "id": "2d210319-cc19-48ee-87be-0de19e89f64f",
   "metadata": {},
   "outputs": [
    {
     "data": {
      "image/png": "[encoded data removed]",
      "text/plain": [
       "<Figure size 432x288 with 1 Axes>"
      ]
     },
     "metadata": {
      "needs_background": "light"
     },
     "output_type": "display_data"
    }
   ],
   "source": [
    "plt.figure(figsize=(6,4))\n",
    "sns.scatterplot(data=data2, x='rat_minutes', y='bat_landing_number')\n",
    "plt.title(\"Bats Landing Count When Rats are Present in Minutes\")\n",
    "plt.xlabel(\"Rat Minutes\")\n",
    "plt.ylabel(\"Bat Landings\")\n",
    "plt.show()"
   ]
  },
  {
   "cell_type": "code",
   "execution_count": 27,
   "id": "18992048-0b1f-41a3-9757-3eb6bc74896a",
   "metadata": {},
   "outputs": [
    {
     "name": "stdout",
     "output_type": "stream",
     "text": [
      "Correlation -0.1462275008447883\n"
     ]
    }
   ],
   "source": [
    "correlation = data2['rat_minutes'].corr(data2['bat_landing_number'])\n",
    "print(\"Correlation\", correlation)"
   ]
  },
  {
   "cell_type": "markdown",
   "id": "b2ada5ac-548e-42ff-9626-7936eb0b7ff4",
   "metadata": {},
   "source": [
    "The negative correlation indicates, more the rat stays, less the landing occurs as shown in\n",
    "scatter plot.\n",
    "The above chi square subject the dependency on risk and reward\n",
    "this support the idea that the bats percive the rats as a potentail predators."
   ]
  },
  {
   "cell_type": "code",
   "execution_count": null,
   "id": "3207d887-f3a2-410d-b96c-9fafc34e526d",
   "metadata": {},
   "outputs": [],
   "source": []
  },
  {
   "cell_type": "code",
   "execution_count": null,
   "id": "e608ecae-2bb7-4d8d-8de3-0755611de617",
   "metadata": {},
   "outputs": [],
   "source": []
  }
 ],
 "metadata": {
  "kernelspec": {
   "display_name": "base",
   "language": "python",
   "name": "python3"
  },
  "language_info": {
   "codemirror_mode": {
    "name": "ipython",
    "version": 3
   },
   "file_extension": ".py",
   "mimetype": "text/x-python",
   "name": "python",
   "nbconvert_exporter": "python",
   "pygments_lexer": "ipython3",
   "version": "3.9.12"
  }
 },
 "nbformat": 4,
 "nbformat_minor": 5
}
